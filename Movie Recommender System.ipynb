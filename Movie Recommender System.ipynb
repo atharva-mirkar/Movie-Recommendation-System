{
 "cells": [
  {
   "cell_type": "code",
   "execution_count": 2,
   "id": "ee946d01",
   "metadata": {
    "_cell_guid": "b1076dfc-b9ad-4769-8c92-a6c4dae69d19",
    "_uuid": "8f2839f25d086af736a60e9eeb907d3b93b6e0e5",
    "execution": {
     "iopub.execute_input": "2023-10-07T12:10:13.631386Z",
     "iopub.status.busy": "2023-10-07T12:10:13.630727Z",
     "iopub.status.idle": "2023-10-07T12:10:14.007441Z",
     "shell.execute_reply": "2023-10-07T12:10:14.006169Z"
    },
    "papermill": {
     "duration": 0.390467,
     "end_time": "2023-10-07T12:10:14.009890",
     "exception": false,
     "start_time": "2023-10-07T12:10:13.619423",
     "status": "completed"
    },
    "tags": []
   },
   "outputs": [],
   "source": [
    "#import packages\n",
    "import numpy as np \n",
    "import pandas as pd \n"
   ]
  },
  {
   "cell_type": "code",
   "execution_count": 3,
   "id": "b1115f0d",
   "metadata": {
    "execution": {
     "iopub.execute_input": "2023-10-07T12:10:14.032144Z",
     "iopub.status.busy": "2023-10-07T12:10:14.031106Z",
     "iopub.status.idle": "2023-10-07T12:10:15.444668Z",
     "shell.execute_reply": "2023-10-07T12:10:15.443531Z"
    },
    "papermill": {
     "duration": 1.426403,
     "end_time": "2023-10-07T12:10:15.447045",
     "exception": false,
     "start_time": "2023-10-07T12:10:14.020642",
     "status": "completed"
    },
    "tags": []
   },
   "outputs": [],
   "source": [
    "import matplotlib.pyplot as plt\n",
    "import seaborn as sns"
   ]
  },
  {
   "cell_type": "code",
   "execution_count": 214,
   "id": "44b5a333",
   "metadata": {
    "execution": {
     "iopub.execute_input": "2023-10-07T12:10:15.466729Z",
     "iopub.status.busy": "2023-10-07T12:10:15.465767Z",
     "iopub.status.idle": "2023-10-07T12:10:16.490257Z",
     "shell.execute_reply": "2023-10-07T12:10:16.489354Z"
    },
    "papermill": {
     "duration": 1.037188,
     "end_time": "2023-10-07T12:10:16.493046",
     "exception": false,
     "start_time": "2023-10-07T12:10:15.455858",
     "status": "completed"
    },
    "tags": []
   },
   "outputs": [],
   "source": [
    "#load the data\n",
    "movies=pd.read_csv('tmdb_5000_movies.csv')\n",
    "credits=pd.read_csv('tmdb_5000_credits.csv')"
   ]
  },
  {
   "cell_type": "code",
   "execution_count": 215,
   "id": "e4be8060",
   "metadata": {},
   "outputs": [],
   "source": [
    "#data exploration"
   ]
  },
  {
   "cell_type": "code",
   "execution_count": 216,
   "id": "70534b9c",
   "metadata": {
    "execution": {
     "iopub.execute_input": "2023-10-07T12:10:16.514146Z",
     "iopub.status.busy": "2023-10-07T12:10:16.513405Z",
     "iopub.status.idle": "2023-10-07T12:10:16.542721Z",
     "shell.execute_reply": "2023-10-07T12:10:16.541642Z"
    },
    "papermill": {
     "duration": 0.042192,
     "end_time": "2023-10-07T12:10:16.544923",
     "exception": false,
     "start_time": "2023-10-07T12:10:16.502731",
     "status": "completed"
    },
    "tags": []
   },
   "outputs": [
    {
     "data": {
      "text/html": [
       "<div>\n",
       "<style scoped>\n",
       "    .dataframe tbody tr th:only-of-type {\n",
       "        vertical-align: middle;\n",
       "    }\n",
       "\n",
       "    .dataframe tbody tr th {\n",
       "        vertical-align: top;\n",
       "    }\n",
       "\n",
       "    .dataframe thead th {\n",
       "        text-align: right;\n",
       "    }\n",
       "</style>\n",
       "<table border=\"1\" class=\"dataframe\">\n",
       "  <thead>\n",
       "    <tr style=\"text-align: right;\">\n",
       "      <th></th>\n",
       "      <th>budget</th>\n",
       "      <th>genres</th>\n",
       "      <th>homepage</th>\n",
       "      <th>id</th>\n",
       "      <th>keywords</th>\n",
       "      <th>original_language</th>\n",
       "      <th>original_title</th>\n",
       "      <th>overview</th>\n",
       "      <th>popularity</th>\n",
       "      <th>production_companies</th>\n",
       "      <th>production_countries</th>\n",
       "      <th>release_date</th>\n",
       "      <th>revenue</th>\n",
       "      <th>runtime</th>\n",
       "      <th>spoken_languages</th>\n",
       "      <th>status</th>\n",
       "      <th>tagline</th>\n",
       "      <th>title</th>\n",
       "      <th>vote_average</th>\n",
       "      <th>vote_count</th>\n",
       "    </tr>\n",
       "  </thead>\n",
       "  <tbody>\n",
       "    <tr>\n",
       "      <th>0</th>\n",
       "      <td>237000000</td>\n",
       "      <td>[{\"id\": 28, \"name\": \"Action\"}, {\"id\": 12, \"nam...</td>\n",
       "      <td>http://www.avatarmovie.com/</td>\n",
       "      <td>19995</td>\n",
       "      <td>[{\"id\": 1463, \"name\": \"culture clash\"}, {\"id\":...</td>\n",
       "      <td>en</td>\n",
       "      <td>Avatar</td>\n",
       "      <td>In the 22nd century, a paraplegic Marine is di...</td>\n",
       "      <td>150.437577</td>\n",
       "      <td>[{\"name\": \"Ingenious Film Partners\", \"id\": 289...</td>\n",
       "      <td>[{\"iso_3166_1\": \"US\", \"name\": \"United States o...</td>\n",
       "      <td>2009-12-10</td>\n",
       "      <td>2787965087</td>\n",
       "      <td>162.0</td>\n",
       "      <td>[{\"iso_639_1\": \"en\", \"name\": \"English\"}, {\"iso...</td>\n",
       "      <td>Released</td>\n",
       "      <td>Enter the World of Pandora.</td>\n",
       "      <td>Avatar</td>\n",
       "      <td>7.2</td>\n",
       "      <td>11800</td>\n",
       "    </tr>\n",
       "    <tr>\n",
       "      <th>1</th>\n",
       "      <td>300000000</td>\n",
       "      <td>[{\"id\": 12, \"name\": \"Adventure\"}, {\"id\": 14, \"...</td>\n",
       "      <td>http://disney.go.com/disneypictures/pirates/</td>\n",
       "      <td>285</td>\n",
       "      <td>[{\"id\": 270, \"name\": \"ocean\"}, {\"id\": 726, \"na...</td>\n",
       "      <td>en</td>\n",
       "      <td>Pirates of the Caribbean: At World's End</td>\n",
       "      <td>Captain Barbossa, long believed to be dead, ha...</td>\n",
       "      <td>139.082615</td>\n",
       "      <td>[{\"name\": \"Walt Disney Pictures\", \"id\": 2}, {\"...</td>\n",
       "      <td>[{\"iso_3166_1\": \"US\", \"name\": \"United States o...</td>\n",
       "      <td>2007-05-19</td>\n",
       "      <td>961000000</td>\n",
       "      <td>169.0</td>\n",
       "      <td>[{\"iso_639_1\": \"en\", \"name\": \"English\"}]</td>\n",
       "      <td>Released</td>\n",
       "      <td>At the end of the world, the adventure begins.</td>\n",
       "      <td>Pirates of the Caribbean: At World's End</td>\n",
       "      <td>6.9</td>\n",
       "      <td>4500</td>\n",
       "    </tr>\n",
       "    <tr>\n",
       "      <th>2</th>\n",
       "      <td>245000000</td>\n",
       "      <td>[{\"id\": 28, \"name\": \"Action\"}, {\"id\": 12, \"nam...</td>\n",
       "      <td>http://www.sonypictures.com/movies/spectre/</td>\n",
       "      <td>206647</td>\n",
       "      <td>[{\"id\": 470, \"name\": \"spy\"}, {\"id\": 818, \"name...</td>\n",
       "      <td>en</td>\n",
       "      <td>Spectre</td>\n",
       "      <td>A cryptic message from Bond’s past sends him o...</td>\n",
       "      <td>107.376788</td>\n",
       "      <td>[{\"name\": \"Columbia Pictures\", \"id\": 5}, {\"nam...</td>\n",
       "      <td>[{\"iso_3166_1\": \"GB\", \"name\": \"United Kingdom\"...</td>\n",
       "      <td>2015-10-26</td>\n",
       "      <td>880674609</td>\n",
       "      <td>148.0</td>\n",
       "      <td>[{\"iso_639_1\": \"fr\", \"name\": \"Fran\\u00e7ais\"},...</td>\n",
       "      <td>Released</td>\n",
       "      <td>A Plan No One Escapes</td>\n",
       "      <td>Spectre</td>\n",
       "      <td>6.3</td>\n",
       "      <td>4466</td>\n",
       "    </tr>\n",
       "    <tr>\n",
       "      <th>3</th>\n",
       "      <td>250000000</td>\n",
       "      <td>[{\"id\": 28, \"name\": \"Action\"}, {\"id\": 80, \"nam...</td>\n",
       "      <td>http://www.thedarkknightrises.com/</td>\n",
       "      <td>49026</td>\n",
       "      <td>[{\"id\": 849, \"name\": \"dc comics\"}, {\"id\": 853,...</td>\n",
       "      <td>en</td>\n",
       "      <td>The Dark Knight Rises</td>\n",
       "      <td>Following the death of District Attorney Harve...</td>\n",
       "      <td>112.312950</td>\n",
       "      <td>[{\"name\": \"Legendary Pictures\", \"id\": 923}, {\"...</td>\n",
       "      <td>[{\"iso_3166_1\": \"US\", \"name\": \"United States o...</td>\n",
       "      <td>2012-07-16</td>\n",
       "      <td>1084939099</td>\n",
       "      <td>165.0</td>\n",
       "      <td>[{\"iso_639_1\": \"en\", \"name\": \"English\"}]</td>\n",
       "      <td>Released</td>\n",
       "      <td>The Legend Ends</td>\n",
       "      <td>The Dark Knight Rises</td>\n",
       "      <td>7.6</td>\n",
       "      <td>9106</td>\n",
       "    </tr>\n",
       "    <tr>\n",
       "      <th>4</th>\n",
       "      <td>260000000</td>\n",
       "      <td>[{\"id\": 28, \"name\": \"Action\"}, {\"id\": 12, \"nam...</td>\n",
       "      <td>http://movies.disney.com/john-carter</td>\n",
       "      <td>49529</td>\n",
       "      <td>[{\"id\": 818, \"name\": \"based on novel\"}, {\"id\":...</td>\n",
       "      <td>en</td>\n",
       "      <td>John Carter</td>\n",
       "      <td>John Carter is a war-weary, former military ca...</td>\n",
       "      <td>43.926995</td>\n",
       "      <td>[{\"name\": \"Walt Disney Pictures\", \"id\": 2}]</td>\n",
       "      <td>[{\"iso_3166_1\": \"US\", \"name\": \"United States o...</td>\n",
       "      <td>2012-03-07</td>\n",
       "      <td>284139100</td>\n",
       "      <td>132.0</td>\n",
       "      <td>[{\"iso_639_1\": \"en\", \"name\": \"English\"}]</td>\n",
       "      <td>Released</td>\n",
       "      <td>Lost in our world, found in another.</td>\n",
       "      <td>John Carter</td>\n",
       "      <td>6.1</td>\n",
       "      <td>2124</td>\n",
       "    </tr>\n",
       "  </tbody>\n",
       "</table>\n",
       "</div>"
      ],
      "text/plain": [
       "      budget                                             genres  \\\n",
       "0  237000000  [{\"id\": 28, \"name\": \"Action\"}, {\"id\": 12, \"nam...   \n",
       "1  300000000  [{\"id\": 12, \"name\": \"Adventure\"}, {\"id\": 14, \"...   \n",
       "2  245000000  [{\"id\": 28, \"name\": \"Action\"}, {\"id\": 12, \"nam...   \n",
       "3  250000000  [{\"id\": 28, \"name\": \"Action\"}, {\"id\": 80, \"nam...   \n",
       "4  260000000  [{\"id\": 28, \"name\": \"Action\"}, {\"id\": 12, \"nam...   \n",
       "\n",
       "                                       homepage      id  \\\n",
       "0                   http://www.avatarmovie.com/   19995   \n",
       "1  http://disney.go.com/disneypictures/pirates/     285   \n",
       "2   http://www.sonypictures.com/movies/spectre/  206647   \n",
       "3            http://www.thedarkknightrises.com/   49026   \n",
       "4          http://movies.disney.com/john-carter   49529   \n",
       "\n",
       "                                            keywords original_language  \\\n",
       "0  [{\"id\": 1463, \"name\": \"culture clash\"}, {\"id\":...                en   \n",
       "1  [{\"id\": 270, \"name\": \"ocean\"}, {\"id\": 726, \"na...                en   \n",
       "2  [{\"id\": 470, \"name\": \"spy\"}, {\"id\": 818, \"name...                en   \n",
       "3  [{\"id\": 849, \"name\": \"dc comics\"}, {\"id\": 853,...                en   \n",
       "4  [{\"id\": 818, \"name\": \"based on novel\"}, {\"id\":...                en   \n",
       "\n",
       "                             original_title  \\\n",
       "0                                    Avatar   \n",
       "1  Pirates of the Caribbean: At World's End   \n",
       "2                                   Spectre   \n",
       "3                     The Dark Knight Rises   \n",
       "4                               John Carter   \n",
       "\n",
       "                                            overview  popularity  \\\n",
       "0  In the 22nd century, a paraplegic Marine is di...  150.437577   \n",
       "1  Captain Barbossa, long believed to be dead, ha...  139.082615   \n",
       "2  A cryptic message from Bond’s past sends him o...  107.376788   \n",
       "3  Following the death of District Attorney Harve...  112.312950   \n",
       "4  John Carter is a war-weary, former military ca...   43.926995   \n",
       "\n",
       "                                production_companies  \\\n",
       "0  [{\"name\": \"Ingenious Film Partners\", \"id\": 289...   \n",
       "1  [{\"name\": \"Walt Disney Pictures\", \"id\": 2}, {\"...   \n",
       "2  [{\"name\": \"Columbia Pictures\", \"id\": 5}, {\"nam...   \n",
       "3  [{\"name\": \"Legendary Pictures\", \"id\": 923}, {\"...   \n",
       "4        [{\"name\": \"Walt Disney Pictures\", \"id\": 2}]   \n",
       "\n",
       "                                production_countries release_date     revenue  \\\n",
       "0  [{\"iso_3166_1\": \"US\", \"name\": \"United States o...   2009-12-10  2787965087   \n",
       "1  [{\"iso_3166_1\": \"US\", \"name\": \"United States o...   2007-05-19   961000000   \n",
       "2  [{\"iso_3166_1\": \"GB\", \"name\": \"United Kingdom\"...   2015-10-26   880674609   \n",
       "3  [{\"iso_3166_1\": \"US\", \"name\": \"United States o...   2012-07-16  1084939099   \n",
       "4  [{\"iso_3166_1\": \"US\", \"name\": \"United States o...   2012-03-07   284139100   \n",
       "\n",
       "   runtime                                   spoken_languages    status  \\\n",
       "0    162.0  [{\"iso_639_1\": \"en\", \"name\": \"English\"}, {\"iso...  Released   \n",
       "1    169.0           [{\"iso_639_1\": \"en\", \"name\": \"English\"}]  Released   \n",
       "2    148.0  [{\"iso_639_1\": \"fr\", \"name\": \"Fran\\u00e7ais\"},...  Released   \n",
       "3    165.0           [{\"iso_639_1\": \"en\", \"name\": \"English\"}]  Released   \n",
       "4    132.0           [{\"iso_639_1\": \"en\", \"name\": \"English\"}]  Released   \n",
       "\n",
       "                                          tagline  \\\n",
       "0                     Enter the World of Pandora.   \n",
       "1  At the end of the world, the adventure begins.   \n",
       "2                           A Plan No One Escapes   \n",
       "3                                 The Legend Ends   \n",
       "4            Lost in our world, found in another.   \n",
       "\n",
       "                                      title  vote_average  vote_count  \n",
       "0                                    Avatar           7.2       11800  \n",
       "1  Pirates of the Caribbean: At World's End           6.9        4500  \n",
       "2                                   Spectre           6.3        4466  \n",
       "3                     The Dark Knight Rises           7.6        9106  \n",
       "4                               John Carter           6.1        2124  "
      ]
     },
     "execution_count": 216,
     "metadata": {},
     "output_type": "execute_result"
    }
   ],
   "source": [
    "movies.head()"
   ]
  },
  {
   "cell_type": "code",
   "execution_count": 217,
   "id": "790da400",
   "metadata": {
    "execution": {
     "iopub.execute_input": "2023-10-07T12:10:16.565539Z",
     "iopub.status.busy": "2023-10-07T12:10:16.564682Z",
     "iopub.status.idle": "2023-10-07T12:10:16.575912Z",
     "shell.execute_reply": "2023-10-07T12:10:16.574725Z"
    },
    "papermill": {
     "duration": 0.023688,
     "end_time": "2023-10-07T12:10:16.577917",
     "exception": false,
     "start_time": "2023-10-07T12:10:16.554229",
     "status": "completed"
    },
    "tags": []
   },
   "outputs": [
    {
     "data": {
      "text/html": [
       "<div>\n",
       "<style scoped>\n",
       "    .dataframe tbody tr th:only-of-type {\n",
       "        vertical-align: middle;\n",
       "    }\n",
       "\n",
       "    .dataframe tbody tr th {\n",
       "        vertical-align: top;\n",
       "    }\n",
       "\n",
       "    .dataframe thead th {\n",
       "        text-align: right;\n",
       "    }\n",
       "</style>\n",
       "<table border=\"1\" class=\"dataframe\">\n",
       "  <thead>\n",
       "    <tr style=\"text-align: right;\">\n",
       "      <th></th>\n",
       "      <th>movie_id</th>\n",
       "      <th>title</th>\n",
       "      <th>cast</th>\n",
       "      <th>crew</th>\n",
       "    </tr>\n",
       "  </thead>\n",
       "  <tbody>\n",
       "    <tr>\n",
       "      <th>0</th>\n",
       "      <td>19995</td>\n",
       "      <td>Avatar</td>\n",
       "      <td>[{\"cast_id\": 242, \"character\": \"Jake Sully\", \"...</td>\n",
       "      <td>[{\"credit_id\": \"52fe48009251416c750aca23\", \"de...</td>\n",
       "    </tr>\n",
       "    <tr>\n",
       "      <th>1</th>\n",
       "      <td>285</td>\n",
       "      <td>Pirates of the Caribbean: At World's End</td>\n",
       "      <td>[{\"cast_id\": 4, \"character\": \"Captain Jack Spa...</td>\n",
       "      <td>[{\"credit_id\": \"52fe4232c3a36847f800b579\", \"de...</td>\n",
       "    </tr>\n",
       "    <tr>\n",
       "      <th>2</th>\n",
       "      <td>206647</td>\n",
       "      <td>Spectre</td>\n",
       "      <td>[{\"cast_id\": 1, \"character\": \"James Bond\", \"cr...</td>\n",
       "      <td>[{\"credit_id\": \"54805967c3a36829b5002c41\", \"de...</td>\n",
       "    </tr>\n",
       "    <tr>\n",
       "      <th>3</th>\n",
       "      <td>49026</td>\n",
       "      <td>The Dark Knight Rises</td>\n",
       "      <td>[{\"cast_id\": 2, \"character\": \"Bruce Wayne / Ba...</td>\n",
       "      <td>[{\"credit_id\": \"52fe4781c3a36847f81398c3\", \"de...</td>\n",
       "    </tr>\n",
       "    <tr>\n",
       "      <th>4</th>\n",
       "      <td>49529</td>\n",
       "      <td>John Carter</td>\n",
       "      <td>[{\"cast_id\": 5, \"character\": \"John Carter\", \"c...</td>\n",
       "      <td>[{\"credit_id\": \"52fe479ac3a36847f813eaa3\", \"de...</td>\n",
       "    </tr>\n",
       "  </tbody>\n",
       "</table>\n",
       "</div>"
      ],
      "text/plain": [
       "   movie_id                                     title  \\\n",
       "0     19995                                    Avatar   \n",
       "1       285  Pirates of the Caribbean: At World's End   \n",
       "2    206647                                   Spectre   \n",
       "3     49026                     The Dark Knight Rises   \n",
       "4     49529                               John Carter   \n",
       "\n",
       "                                                cast  \\\n",
       "0  [{\"cast_id\": 242, \"character\": \"Jake Sully\", \"...   \n",
       "1  [{\"cast_id\": 4, \"character\": \"Captain Jack Spa...   \n",
       "2  [{\"cast_id\": 1, \"character\": \"James Bond\", \"cr...   \n",
       "3  [{\"cast_id\": 2, \"character\": \"Bruce Wayne / Ba...   \n",
       "4  [{\"cast_id\": 5, \"character\": \"John Carter\", \"c...   \n",
       "\n",
       "                                                crew  \n",
       "0  [{\"credit_id\": \"52fe48009251416c750aca23\", \"de...  \n",
       "1  [{\"credit_id\": \"52fe4232c3a36847f800b579\", \"de...  \n",
       "2  [{\"credit_id\": \"54805967c3a36829b5002c41\", \"de...  \n",
       "3  [{\"credit_id\": \"52fe4781c3a36847f81398c3\", \"de...  \n",
       "4  [{\"credit_id\": \"52fe479ac3a36847f813eaa3\", \"de...  "
      ]
     },
     "execution_count": 217,
     "metadata": {},
     "output_type": "execute_result"
    }
   ],
   "source": [
    "credits.head()"
   ]
  },
  {
   "cell_type": "code",
   "execution_count": 218,
   "id": "dead151a",
   "metadata": {
    "execution": {
     "iopub.execute_input": "2023-10-07T12:10:16.598870Z",
     "iopub.status.busy": "2023-10-07T12:10:16.598523Z",
     "iopub.status.idle": "2023-10-07T12:10:16.605182Z",
     "shell.execute_reply": "2023-10-07T12:10:16.603876Z"
    },
    "papermill": {
     "duration": 0.019653,
     "end_time": "2023-10-07T12:10:16.607069",
     "exception": false,
     "start_time": "2023-10-07T12:10:16.587416",
     "status": "completed"
    },
    "tags": []
   },
   "outputs": [
    {
     "data": {
      "text/plain": [
       "((4803, 20), (4803, 4))"
      ]
     },
     "execution_count": 218,
     "metadata": {},
     "output_type": "execute_result"
    }
   ],
   "source": [
    "movies.shape,credits.shape"
   ]
  },
  {
   "cell_type": "code",
   "execution_count": 219,
   "id": "cbb5017f",
   "metadata": {
    "execution": {
     "iopub.execute_input": "2023-10-07T12:10:16.628057Z",
     "iopub.status.busy": "2023-10-07T12:10:16.627634Z",
     "iopub.status.idle": "2023-10-07T12:10:16.634443Z",
     "shell.execute_reply": "2023-10-07T12:10:16.633498Z"
    },
    "papermill": {
     "duration": 0.019436,
     "end_time": "2023-10-07T12:10:16.636331",
     "exception": false,
     "start_time": "2023-10-07T12:10:16.616895",
     "status": "completed"
    },
    "tags": []
   },
   "outputs": [
    {
     "data": {
      "text/plain": [
       "array(['[{\"id\": 1463, \"name\": \"culture clash\"}, {\"id\": 2964, \"name\": \"future\"}, {\"id\": 3386, \"name\": \"space war\"}, {\"id\": 3388, \"name\": \"space colony\"}, {\"id\": 3679, \"name\": \"society\"}, {\"id\": 3801, \"name\": \"space travel\"}, {\"id\": 9685, \"name\": \"futuristic\"}, {\"id\": 9840, \"name\": \"romance\"}, {\"id\": 9882, \"name\": \"space\"}, {\"id\": 9951, \"name\": \"alien\"}, {\"id\": 10148, \"name\": \"tribe\"}, {\"id\": 10158, \"name\": \"alien planet\"}, {\"id\": 10987, \"name\": \"cgi\"}, {\"id\": 11399, \"name\": \"marine\"}, {\"id\": 13065, \"name\": \"soldier\"}, {\"id\": 14643, \"name\": \"battle\"}, {\"id\": 14720, \"name\": \"love affair\"}, {\"id\": 165431, \"name\": \"anti war\"}, {\"id\": 193554, \"name\": \"power relations\"}, {\"id\": 206690, \"name\": \"mind and soul\"}, {\"id\": 209714, \"name\": \"3d\"}]',\n",
       "       '[{\"id\": 270, \"name\": \"ocean\"}, {\"id\": 726, \"name\": \"drug abuse\"}, {\"id\": 911, \"name\": \"exotic island\"}, {\"id\": 1319, \"name\": \"east india trading company\"}, {\"id\": 2038, \"name\": \"love of one\\'s life\"}, {\"id\": 2052, \"name\": \"traitor\"}, {\"id\": 2580, \"name\": \"shipwreck\"}, {\"id\": 2660, \"name\": \"strong woman\"}, {\"id\": 3799, \"name\": \"ship\"}, {\"id\": 5740, \"name\": \"alliance\"}, {\"id\": 5941, \"name\": \"calypso\"}, {\"id\": 6155, \"name\": \"afterlife\"}, {\"id\": 6211, \"name\": \"fighter\"}, {\"id\": 12988, \"name\": \"pirate\"}, {\"id\": 157186, \"name\": \"swashbuckler\"}, {\"id\": 179430, \"name\": \"aftercreditsstinger\"}]',\n",
       "       '[{\"id\": 470, \"name\": \"spy\"}, {\"id\": 818, \"name\": \"based on novel\"}, {\"id\": 4289, \"name\": \"secret agent\"}, {\"id\": 9663, \"name\": \"sequel\"}, {\"id\": 14555, \"name\": \"mi6\"}, {\"id\": 156095, \"name\": \"british secret service\"}, {\"id\": 158431, \"name\": \"united kingdom\"}]',\n",
       "       ...,\n",
       "       '[{\"id\": 248, \"name\": \"date\"}, {\"id\": 699, \"name\": \"love at first sight\"}, {\"id\": 2398, \"name\": \"narration\"}, {\"id\": 5340, \"name\": \"investigation\"}, {\"id\": 34051, \"name\": \"team\"}, {\"id\": 173066, \"name\": \"postal worker\"}]',\n",
       "       '[]',\n",
       "       '[{\"id\": 1523, \"name\": \"obsession\"}, {\"id\": 2249, \"name\": \"camcorder\"}, {\"id\": 9986, \"name\": \"crush\"}, {\"id\": 11223, \"name\": \"dream girl\"}]'],\n",
       "      dtype=object)"
      ]
     },
     "execution_count": 219,
     "metadata": {},
     "output_type": "execute_result"
    }
   ],
   "source": [
    "movies['keywords'].values"
   ]
  },
  {
   "cell_type": "code",
   "execution_count": 220,
   "id": "11eadcdb",
   "metadata": {
    "execution": {
     "iopub.execute_input": "2023-10-07T12:10:16.657231Z",
     "iopub.status.busy": "2023-10-07T12:10:16.656893Z",
     "iopub.status.idle": "2023-10-07T12:10:16.687957Z",
     "shell.execute_reply": "2023-10-07T12:10:16.687022Z"
    },
    "papermill": {
     "duration": 0.044502,
     "end_time": "2023-10-07T12:10:16.690334",
     "exception": false,
     "start_time": "2023-10-07T12:10:16.645832",
     "status": "completed"
    },
    "tags": []
   },
   "outputs": [],
   "source": [
    "#merge the movies and credits datasets on the 'title' column \n",
    "df=movies.merge(credits,on='title')"
   ]
  },
  {
   "cell_type": "code",
   "execution_count": 221,
   "id": "4cad6f4d",
   "metadata": {
    "execution": {
     "iopub.execute_input": "2023-10-07T12:10:16.711155Z",
     "iopub.status.busy": "2023-10-07T12:10:16.710834Z",
     "iopub.status.idle": "2023-10-07T12:10:16.728815Z",
     "shell.execute_reply": "2023-10-07T12:10:16.727833Z"
    },
    "papermill": {
     "duration": 0.030692,
     "end_time": "2023-10-07T12:10:16.730732",
     "exception": false,
     "start_time": "2023-10-07T12:10:16.700040",
     "status": "completed"
    },
    "tags": []
   },
   "outputs": [
    {
     "data": {
      "text/html": [
       "<div>\n",
       "<style scoped>\n",
       "    .dataframe tbody tr th:only-of-type {\n",
       "        vertical-align: middle;\n",
       "    }\n",
       "\n",
       "    .dataframe tbody tr th {\n",
       "        vertical-align: top;\n",
       "    }\n",
       "\n",
       "    .dataframe thead th {\n",
       "        text-align: right;\n",
       "    }\n",
       "</style>\n",
       "<table border=\"1\" class=\"dataframe\">\n",
       "  <thead>\n",
       "    <tr style=\"text-align: right;\">\n",
       "      <th></th>\n",
       "      <th>budget</th>\n",
       "      <th>genres</th>\n",
       "      <th>homepage</th>\n",
       "      <th>id</th>\n",
       "      <th>keywords</th>\n",
       "      <th>original_language</th>\n",
       "      <th>original_title</th>\n",
       "      <th>overview</th>\n",
       "      <th>popularity</th>\n",
       "      <th>production_companies</th>\n",
       "      <th>...</th>\n",
       "      <th>runtime</th>\n",
       "      <th>spoken_languages</th>\n",
       "      <th>status</th>\n",
       "      <th>tagline</th>\n",
       "      <th>title</th>\n",
       "      <th>vote_average</th>\n",
       "      <th>vote_count</th>\n",
       "      <th>movie_id</th>\n",
       "      <th>cast</th>\n",
       "      <th>crew</th>\n",
       "    </tr>\n",
       "  </thead>\n",
       "  <tbody>\n",
       "    <tr>\n",
       "      <th>0</th>\n",
       "      <td>237000000</td>\n",
       "      <td>[{\"id\": 28, \"name\": \"Action\"}, {\"id\": 12, \"nam...</td>\n",
       "      <td>http://www.avatarmovie.com/</td>\n",
       "      <td>19995</td>\n",
       "      <td>[{\"id\": 1463, \"name\": \"culture clash\"}, {\"id\":...</td>\n",
       "      <td>en</td>\n",
       "      <td>Avatar</td>\n",
       "      <td>In the 22nd century, a paraplegic Marine is di...</td>\n",
       "      <td>150.437577</td>\n",
       "      <td>[{\"name\": \"Ingenious Film Partners\", \"id\": 289...</td>\n",
       "      <td>...</td>\n",
       "      <td>162.0</td>\n",
       "      <td>[{\"iso_639_1\": \"en\", \"name\": \"English\"}, {\"iso...</td>\n",
       "      <td>Released</td>\n",
       "      <td>Enter the World of Pandora.</td>\n",
       "      <td>Avatar</td>\n",
       "      <td>7.2</td>\n",
       "      <td>11800</td>\n",
       "      <td>19995</td>\n",
       "      <td>[{\"cast_id\": 242, \"character\": \"Jake Sully\", \"...</td>\n",
       "      <td>[{\"credit_id\": \"52fe48009251416c750aca23\", \"de...</td>\n",
       "    </tr>\n",
       "  </tbody>\n",
       "</table>\n",
       "<p>1 rows × 23 columns</p>\n",
       "</div>"
      ],
      "text/plain": [
       "      budget                                             genres  \\\n",
       "0  237000000  [{\"id\": 28, \"name\": \"Action\"}, {\"id\": 12, \"nam...   \n",
       "\n",
       "                      homepage     id  \\\n",
       "0  http://www.avatarmovie.com/  19995   \n",
       "\n",
       "                                            keywords original_language  \\\n",
       "0  [{\"id\": 1463, \"name\": \"culture clash\"}, {\"id\":...                en   \n",
       "\n",
       "  original_title                                           overview  \\\n",
       "0         Avatar  In the 22nd century, a paraplegic Marine is di...   \n",
       "\n",
       "   popularity                               production_companies  ... runtime  \\\n",
       "0  150.437577  [{\"name\": \"Ingenious Film Partners\", \"id\": 289...  ...   162.0   \n",
       "\n",
       "                                    spoken_languages    status  \\\n",
       "0  [{\"iso_639_1\": \"en\", \"name\": \"English\"}, {\"iso...  Released   \n",
       "\n",
       "                       tagline   title vote_average vote_count movie_id  \\\n",
       "0  Enter the World of Pandora.  Avatar          7.2      11800    19995   \n",
       "\n",
       "                                                cast  \\\n",
       "0  [{\"cast_id\": 242, \"character\": \"Jake Sully\", \"...   \n",
       "\n",
       "                                                crew  \n",
       "0  [{\"credit_id\": \"52fe48009251416c750aca23\", \"de...  \n",
       "\n",
       "[1 rows x 23 columns]"
      ]
     },
     "execution_count": 221,
     "metadata": {},
     "output_type": "execute_result"
    }
   ],
   "source": [
    "df.head(1)"
   ]
  },
  {
   "cell_type": "code",
   "execution_count": 222,
   "id": "af468b6e",
   "metadata": {
    "execution": {
     "iopub.execute_input": "2023-10-07T12:10:16.752248Z",
     "iopub.status.busy": "2023-10-07T12:10:16.751926Z",
     "iopub.status.idle": "2023-10-07T12:10:16.758241Z",
     "shell.execute_reply": "2023-10-07T12:10:16.757259Z"
    },
    "papermill": {
     "duration": 0.019417,
     "end_time": "2023-10-07T12:10:16.760183",
     "exception": false,
     "start_time": "2023-10-07T12:10:16.740766",
     "status": "completed"
    },
    "tags": []
   },
   "outputs": [
    {
     "data": {
      "text/plain": [
       "Index(['budget', 'genres', 'homepage', 'id', 'keywords', 'original_language',\n",
       "       'original_title', 'overview', 'popularity', 'production_companies',\n",
       "       'production_countries', 'release_date', 'revenue', 'runtime',\n",
       "       'spoken_languages', 'status', 'tagline', 'title', 'vote_average',\n",
       "       'vote_count', 'movie_id', 'cast', 'crew'],\n",
       "      dtype='object')"
      ]
     },
     "execution_count": 222,
     "metadata": {},
     "output_type": "execute_result"
    }
   ],
   "source": [
    "df.columns"
   ]
  },
  {
   "cell_type": "code",
   "execution_count": 223,
   "id": "48134bf3",
   "metadata": {
    "execution": {
     "iopub.execute_input": "2023-10-07T12:10:16.809319Z",
     "iopub.status.busy": "2023-10-07T12:10:16.808414Z",
     "iopub.status.idle": "2023-10-07T12:10:16.816041Z",
     "shell.execute_reply": "2023-10-07T12:10:16.814858Z"
    },
    "papermill": {
     "duration": 0.020793,
     "end_time": "2023-10-07T12:10:16.818033",
     "exception": false,
     "start_time": "2023-10-07T12:10:16.797240",
     "status": "completed"
    },
    "tags": []
   },
   "outputs": [],
   "source": [
    "#removing the unwanted columns \n",
    "#'budget','homepage','id','revenue','spoken_languages','original_language','crew','production_companies','tagline'\n",
    "movies=df.drop(['budget','homepage','id','revenue','spoken_languages','original_language','crew','production_companies',\\\n",
    "                'popularity','status','tagline','vote_count','production_countries','original_title'],axis=1)"
   ]
  },
  {
   "cell_type": "code",
   "execution_count": 224,
   "id": "08eef7be",
   "metadata": {
    "execution": {
     "iopub.execute_input": "2023-10-07T12:10:16.900722Z",
     "iopub.status.busy": "2023-10-07T12:10:16.900313Z",
     "iopub.status.idle": "2023-10-07T12:10:16.906637Z",
     "shell.execute_reply": "2023-10-07T12:10:16.905780Z"
    },
    "papermill": {
     "duration": 0.019293,
     "end_time": "2023-10-07T12:10:16.908485",
     "exception": false,
     "start_time": "2023-10-07T12:10:16.889192",
     "status": "completed"
    },
    "tags": []
   },
   "outputs": [
    {
     "data": {
      "text/plain": [
       "(4809, 9)"
      ]
     },
     "execution_count": 224,
     "metadata": {},
     "output_type": "execute_result"
    }
   ],
   "source": [
    "movies.shape"
   ]
  },
  {
   "cell_type": "code",
   "execution_count": 225,
   "id": "2a6caa0c",
   "metadata": {
    "execution": {
     "iopub.execute_input": "2023-10-07T12:10:16.931675Z",
     "iopub.status.busy": "2023-10-07T12:10:16.930491Z",
     "iopub.status.idle": "2023-10-07T12:10:16.944311Z",
     "shell.execute_reply": "2023-10-07T12:10:16.943261Z"
    },
    "papermill": {
     "duration": 0.027293,
     "end_time": "2023-10-07T12:10:16.946549",
     "exception": false,
     "start_time": "2023-10-07T12:10:16.919256",
     "status": "completed"
    },
    "tags": []
   },
   "outputs": [
    {
     "data": {
      "text/html": [
       "<div>\n",
       "<style scoped>\n",
       "    .dataframe tbody tr th:only-of-type {\n",
       "        vertical-align: middle;\n",
       "    }\n",
       "\n",
       "    .dataframe tbody tr th {\n",
       "        vertical-align: top;\n",
       "    }\n",
       "\n",
       "    .dataframe thead th {\n",
       "        text-align: right;\n",
       "    }\n",
       "</style>\n",
       "<table border=\"1\" class=\"dataframe\">\n",
       "  <thead>\n",
       "    <tr style=\"text-align: right;\">\n",
       "      <th></th>\n",
       "      <th>genres</th>\n",
       "      <th>keywords</th>\n",
       "      <th>overview</th>\n",
       "      <th>release_date</th>\n",
       "      <th>runtime</th>\n",
       "      <th>title</th>\n",
       "      <th>vote_average</th>\n",
       "      <th>movie_id</th>\n",
       "      <th>cast</th>\n",
       "    </tr>\n",
       "  </thead>\n",
       "  <tbody>\n",
       "    <tr>\n",
       "      <th>0</th>\n",
       "      <td>[{\"id\": 28, \"name\": \"Action\"}, {\"id\": 12, \"nam...</td>\n",
       "      <td>[{\"id\": 1463, \"name\": \"culture clash\"}, {\"id\":...</td>\n",
       "      <td>In the 22nd century, a paraplegic Marine is di...</td>\n",
       "      <td>2009-12-10</td>\n",
       "      <td>162.0</td>\n",
       "      <td>Avatar</td>\n",
       "      <td>7.2</td>\n",
       "      <td>19995</td>\n",
       "      <td>[{\"cast_id\": 242, \"character\": \"Jake Sully\", \"...</td>\n",
       "    </tr>\n",
       "  </tbody>\n",
       "</table>\n",
       "</div>"
      ],
      "text/plain": [
       "                                              genres  \\\n",
       "0  [{\"id\": 28, \"name\": \"Action\"}, {\"id\": 12, \"nam...   \n",
       "\n",
       "                                            keywords  \\\n",
       "0  [{\"id\": 1463, \"name\": \"culture clash\"}, {\"id\":...   \n",
       "\n",
       "                                            overview release_date  runtime  \\\n",
       "0  In the 22nd century, a paraplegic Marine is di...   2009-12-10    162.0   \n",
       "\n",
       "    title  vote_average  movie_id  \\\n",
       "0  Avatar           7.2     19995   \n",
       "\n",
       "                                                cast  \n",
       "0  [{\"cast_id\": 242, \"character\": \"Jake Sully\", \"...  "
      ]
     },
     "execution_count": 225,
     "metadata": {},
     "output_type": "execute_result"
    }
   ],
   "source": [
    "movies.head(1)"
   ]
  },
  {
   "cell_type": "code",
   "execution_count": 226,
   "id": "7cf07ccc",
   "metadata": {
    "execution": {
     "iopub.execute_input": "2023-10-07T12:10:16.969466Z",
     "iopub.status.busy": "2023-10-07T12:10:16.969135Z",
     "iopub.status.idle": "2023-10-07T12:10:16.975758Z",
     "shell.execute_reply": "2023-10-07T12:10:16.975061Z"
    },
    "papermill": {
     "duration": 0.019845,
     "end_time": "2023-10-07T12:10:16.977416",
     "exception": false,
     "start_time": "2023-10-07T12:10:16.957571",
     "status": "completed"
    },
    "tags": []
   },
   "outputs": [
    {
     "data": {
      "text/plain": [
       "'[{\"cast_id\": 242, \"character\": \"Jake Sully\", \"credit_id\": \"5602a8a7c3a3685532001c9a\", \"gender\": 2, \"id\": 65731, \"name\": \"Sam Worthington\", \"order\": 0}, {\"cast_id\": 3, \"character\": \"Neytiri\", \"credit_id\": \"52fe48009251416c750ac9cb\", \"gender\": 1, \"id\": 8691, \"name\": \"Zoe Saldana\", \"order\": 1}, {\"cast_id\": 25, \"character\": \"Dr. Grace Augustine\", \"credit_id\": \"52fe48009251416c750aca39\", \"gender\": 1, \"id\": 10205, \"name\": \"Sigourney Weaver\", \"order\": 2}, {\"cast_id\": 4, \"character\": \"Col. Quaritch\", \"credit_id\": \"52fe48009251416c750ac9cf\", \"gender\": 2, \"id\": 32747, \"name\": \"Stephen Lang\", \"order\": 3}, {\"cast_id\": 5, \"character\": \"Trudy Chacon\", \"credit_id\": \"52fe48009251416c750ac9d3\", \"gender\": 1, \"id\": 17647, \"name\": \"Michelle Rodriguez\", \"order\": 4}, {\"cast_id\": 8, \"character\": \"Selfridge\", \"credit_id\": \"52fe48009251416c750ac9e1\", \"gender\": 2, \"id\": 1771, \"name\": \"Giovanni Ribisi\", \"order\": 5}, {\"cast_id\": 7, \"character\": \"Norm Spellman\", \"credit_id\": \"52fe48009251416c750ac9dd\", \"gender\": 2, \"id\": 59231, \"name\": \"Joel David Moore\", \"order\": 6}, {\"cast_id\": 9, \"character\": \"Moat\", \"credit_id\": \"52fe48009251416c750ac9e5\", \"gender\": 1, \"id\": 30485, \"name\": \"CCH Pounder\", \"order\": 7}, {\"cast_id\": 11, \"character\": \"Eytukan\", \"credit_id\": \"52fe48009251416c750ac9ed\", \"gender\": 2, \"id\": 15853, \"name\": \"Wes Studi\", \"order\": 8}, {\"cast_id\": 10, \"character\": \"Tsu\\'Tey\", \"credit_id\": \"52fe48009251416c750ac9e9\", \"gender\": 2, \"id\": 10964, \"name\": \"Laz Alonso\", \"order\": 9}, {\"cast_id\": 12, \"character\": \"Dr. Max Patel\", \"credit_id\": \"52fe48009251416c750ac9f1\", \"gender\": 2, \"id\": 95697, \"name\": \"Dileep Rao\", \"order\": 10}, {\"cast_id\": 13, \"character\": \"Lyle Wainfleet\", \"credit_id\": \"52fe48009251416c750ac9f5\", \"gender\": 2, \"id\": 98215, \"name\": \"Matt Gerald\", \"order\": 11}, {\"cast_id\": 32, \"character\": \"Private Fike\", \"credit_id\": \"52fe48009251416c750aca5b\", \"gender\": 2, \"id\": 154153, \"name\": \"Sean Anthony Moran\", \"order\": 12}, {\"cast_id\": 33, \"character\": \"Cryo Vault Med Tech\", \"credit_id\": \"52fe48009251416c750aca5f\", \"gender\": 2, \"id\": 397312, \"name\": \"Jason Whyte\", \"order\": 13}, {\"cast_id\": 34, \"character\": \"Venture Star Crew Chief\", \"credit_id\": \"52fe48009251416c750aca63\", \"gender\": 2, \"id\": 42317, \"name\": \"Scott Lawrence\", \"order\": 14}, {\"cast_id\": 35, \"character\": \"Lock Up Trooper\", \"credit_id\": \"52fe48009251416c750aca67\", \"gender\": 2, \"id\": 986734, \"name\": \"Kelly Kilgour\", \"order\": 15}, {\"cast_id\": 36, \"character\": \"Shuttle Pilot\", \"credit_id\": \"52fe48009251416c750aca6b\", \"gender\": 0, \"id\": 1207227, \"name\": \"James Patrick Pitt\", \"order\": 16}, {\"cast_id\": 37, \"character\": \"Shuttle Co-Pilot\", \"credit_id\": \"52fe48009251416c750aca6f\", \"gender\": 0, \"id\": 1180936, \"name\": \"Sean Patrick Murphy\", \"order\": 17}, {\"cast_id\": 38, \"character\": \"Shuttle Crew Chief\", \"credit_id\": \"52fe48009251416c750aca73\", \"gender\": 2, \"id\": 1019578, \"name\": \"Peter Dillon\", \"order\": 18}, {\"cast_id\": 39, \"character\": \"Tractor Operator / Troupe\", \"credit_id\": \"52fe48009251416c750aca77\", \"gender\": 0, \"id\": 91443, \"name\": \"Kevin Dorman\", \"order\": 19}, {\"cast_id\": 40, \"character\": \"Dragon Gunship Pilot\", \"credit_id\": \"52fe48009251416c750aca7b\", \"gender\": 2, \"id\": 173391, \"name\": \"Kelson Henderson\", \"order\": 20}, {\"cast_id\": 41, \"character\": \"Dragon Gunship Gunner\", \"credit_id\": \"52fe48009251416c750aca7f\", \"gender\": 0, \"id\": 1207236, \"name\": \"David Van Horn\", \"order\": 21}, {\"cast_id\": 42, \"character\": \"Dragon Gunship Navigator\", \"credit_id\": \"52fe48009251416c750aca83\", \"gender\": 0, \"id\": 215913, \"name\": \"Jacob Tomuri\", \"order\": 22}, {\"cast_id\": 43, \"character\": \"Suit #1\", \"credit_id\": \"52fe48009251416c750aca87\", \"gender\": 0, \"id\": 143206, \"name\": \"Michael Blain-Rozgay\", \"order\": 23}, {\"cast_id\": 44, \"character\": \"Suit #2\", \"credit_id\": \"52fe48009251416c750aca8b\", \"gender\": 2, \"id\": 169676, \"name\": \"Jon Curry\", \"order\": 24}, {\"cast_id\": 46, \"character\": \"Ambient Room Tech\", \"credit_id\": \"52fe48009251416c750aca8f\", \"gender\": 0, \"id\": 1048610, \"name\": \"Luke Hawker\", \"order\": 25}, {\"cast_id\": 47, \"character\": \"Ambient Room Tech / Troupe\", \"credit_id\": \"52fe48009251416c750aca93\", \"gender\": 0, \"id\": 42288, \"name\": \"Woody Schultz\", \"order\": 26}, {\"cast_id\": 48, \"character\": \"Horse Clan Leader\", \"credit_id\": \"52fe48009251416c750aca97\", \"gender\": 2, \"id\": 68278, \"name\": \"Peter Mensah\", \"order\": 27}, {\"cast_id\": 49, \"character\": \"Link Room Tech\", \"credit_id\": \"52fe48009251416c750aca9b\", \"gender\": 0, \"id\": 1207247, \"name\": \"Sonia Yee\", \"order\": 28}, {\"cast_id\": 50, \"character\": \"Basketball Avatar / Troupe\", \"credit_id\": \"52fe48009251416c750aca9f\", \"gender\": 1, \"id\": 1207248, \"name\": \"Jahnel Curfman\", \"order\": 29}, {\"cast_id\": 51, \"character\": \"Basketball Avatar\", \"credit_id\": \"52fe48009251416c750acaa3\", \"gender\": 0, \"id\": 89714, \"name\": \"Ilram Choi\", \"order\": 30}, {\"cast_id\": 52, \"character\": \"Na\\'vi Child\", \"credit_id\": \"52fe48009251416c750acaa7\", \"gender\": 0, \"id\": 1207249, \"name\": \"Kyla Warren\", \"order\": 31}, {\"cast_id\": 53, \"character\": \"Troupe\", \"credit_id\": \"52fe48009251416c750acaab\", \"gender\": 0, \"id\": 1207250, \"name\": \"Lisa Roumain\", \"order\": 32}, {\"cast_id\": 54, \"character\": \"Troupe\", \"credit_id\": \"52fe48009251416c750acaaf\", \"gender\": 1, \"id\": 83105, \"name\": \"Debra Wilson\", \"order\": 33}, {\"cast_id\": 57, \"character\": \"Troupe\", \"credit_id\": \"52fe48009251416c750acabb\", \"gender\": 0, \"id\": 1207253, \"name\": \"Chris Mala\", \"order\": 34}, {\"cast_id\": 55, \"character\": \"Troupe\", \"credit_id\": \"52fe48009251416c750acab3\", \"gender\": 0, \"id\": 1207251, \"name\": \"Taylor Kibby\", \"order\": 35}, {\"cast_id\": 56, \"character\": \"Troupe\", \"credit_id\": \"52fe48009251416c750acab7\", \"gender\": 0, \"id\": 1207252, \"name\": \"Jodie Landau\", \"order\": 36}, {\"cast_id\": 58, \"character\": \"Troupe\", \"credit_id\": \"52fe48009251416c750acabf\", \"gender\": 0, \"id\": 1207254, \"name\": \"Julie Lamm\", \"order\": 37}, {\"cast_id\": 59, \"character\": \"Troupe\", \"credit_id\": \"52fe48009251416c750acac3\", \"gender\": 0, \"id\": 1207257, \"name\": \"Cullen B. Madden\", \"order\": 38}, {\"cast_id\": 60, \"character\": \"Troupe\", \"credit_id\": \"52fe48009251416c750acac7\", \"gender\": 0, \"id\": 1207259, \"name\": \"Joseph Brady Madden\", \"order\": 39}, {\"cast_id\": 61, \"character\": \"Troupe\", \"credit_id\": \"52fe48009251416c750acacb\", \"gender\": 0, \"id\": 1207262, \"name\": \"Frankie Torres\", \"order\": 40}, {\"cast_id\": 62, \"character\": \"Troupe\", \"credit_id\": \"52fe48009251416c750acacf\", \"gender\": 1, \"id\": 1158600, \"name\": \"Austin Wilson\", \"order\": 41}, {\"cast_id\": 63, \"character\": \"Troupe\", \"credit_id\": \"52fe48019251416c750acad3\", \"gender\": 1, \"id\": 983705, \"name\": \"Sara Wilson\", \"order\": 42}, {\"cast_id\": 64, \"character\": \"Troupe\", \"credit_id\": \"52fe48019251416c750acad7\", \"gender\": 0, \"id\": 1207263, \"name\": \"Tamica Washington-Miller\", \"order\": 43}, {\"cast_id\": 65, \"character\": \"Op Center Staff\", \"credit_id\": \"52fe48019251416c750acadb\", \"gender\": 1, \"id\": 1145098, \"name\": \"Lucy Briant\", \"order\": 44}, {\"cast_id\": 66, \"character\": \"Op Center Staff\", \"credit_id\": \"52fe48019251416c750acadf\", \"gender\": 2, \"id\": 33305, \"name\": \"Nathan Meister\", \"order\": 45}, {\"cast_id\": 67, \"character\": \"Op Center Staff\", \"credit_id\": \"52fe48019251416c750acae3\", \"gender\": 0, \"id\": 1207264, \"name\": \"Gerry Blair\", \"order\": 46}, {\"cast_id\": 68, \"character\": \"Op Center Staff\", \"credit_id\": \"52fe48019251416c750acae7\", \"gender\": 2, \"id\": 33311, \"name\": \"Matthew Chamberlain\", \"order\": 47}, {\"cast_id\": 69, \"character\": \"Op Center Staff\", \"credit_id\": \"52fe48019251416c750acaeb\", \"gender\": 0, \"id\": 1207265, \"name\": \"Paul Yates\", \"order\": 48}, {\"cast_id\": 70, \"character\": \"Op Center Duty Officer\", \"credit_id\": \"52fe48019251416c750acaef\", \"gender\": 0, \"id\": 1207266, \"name\": \"Wray Wilson\", \"order\": 49}, {\"cast_id\": 71, \"character\": \"Op Center Staff\", \"credit_id\": \"52fe48019251416c750acaf3\", \"gender\": 2, \"id\": 54492, \"name\": \"James Gaylyn\", \"order\": 50}, {\"cast_id\": 72, \"character\": \"Dancer\", \"credit_id\": \"52fe48019251416c750acaf7\", \"gender\": 0, \"id\": 1207267, \"name\": \"Melvin Leno Clark III\", \"order\": 51}, {\"cast_id\": 73, \"character\": \"Dancer\", \"credit_id\": \"52fe48019251416c750acafb\", \"gender\": 0, \"id\": 1207268, \"name\": \"Carvon Futrell\", \"order\": 52}, {\"cast_id\": 74, \"character\": \"Dancer\", \"credit_id\": \"52fe48019251416c750acaff\", \"gender\": 0, \"id\": 1207269, \"name\": \"Brandon Jelkes\", \"order\": 53}, {\"cast_id\": 75, \"character\": \"Dancer\", \"credit_id\": \"52fe48019251416c750acb03\", \"gender\": 0, \"id\": 1207270, \"name\": \"Micah Moch\", \"order\": 54}, {\"cast_id\": 76, \"character\": \"Dancer\", \"credit_id\": \"52fe48019251416c750acb07\", \"gender\": 0, \"id\": 1207271, \"name\": \"Hanniyah Muhammad\", \"order\": 55}, {\"cast_id\": 77, \"character\": \"Dancer\", \"credit_id\": \"52fe48019251416c750acb0b\", \"gender\": 0, \"id\": 1207272, \"name\": \"Christopher Nolen\", \"order\": 56}, {\"cast_id\": 78, \"character\": \"Dancer\", \"credit_id\": \"52fe48019251416c750acb0f\", \"gender\": 0, \"id\": 1207273, \"name\": \"Christa Oliver\", \"order\": 57}, {\"cast_id\": 79, \"character\": \"Dancer\", \"credit_id\": \"52fe48019251416c750acb13\", \"gender\": 0, \"id\": 1207274, \"name\": \"April Marie Thomas\", \"order\": 58}, {\"cast_id\": 80, \"character\": \"Dancer\", \"credit_id\": \"52fe48019251416c750acb17\", \"gender\": 0, \"id\": 1207275, \"name\": \"Bravita A. Threatt\", \"order\": 59}, {\"cast_id\": 81, \"character\": \"Mining Chief (uncredited)\", \"credit_id\": \"52fe48019251416c750acb1b\", \"gender\": 0, \"id\": 1207276, \"name\": \"Colin Bleasdale\", \"order\": 60}, {\"cast_id\": 82, \"character\": \"Veteran Miner (uncredited)\", \"credit_id\": \"52fe48019251416c750acb1f\", \"gender\": 0, \"id\": 107969, \"name\": \"Mike Bodnar\", \"order\": 61}, {\"cast_id\": 83, \"character\": \"Richard (uncredited)\", \"credit_id\": \"52fe48019251416c750acb23\", \"gender\": 0, \"id\": 1207278, \"name\": \"Matt Clayton\", \"order\": 62}, {\"cast_id\": 84, \"character\": \"Nav\\'i (uncredited)\", \"credit_id\": \"52fe48019251416c750acb27\", \"gender\": 1, \"id\": 147898, \"name\": \"Nicole Dionne\", \"order\": 63}, {\"cast_id\": 85, \"character\": \"Trooper (uncredited)\", \"credit_id\": \"52fe48019251416c750acb2b\", \"gender\": 0, \"id\": 1207280, \"name\": \"Jamie Harrison\", \"order\": 64}, {\"cast_id\": 86, \"character\": \"Trooper (uncredited)\", \"credit_id\": \"52fe48019251416c750acb2f\", \"gender\": 0, \"id\": 1207281, \"name\": \"Allan Henry\", \"order\": 65}, {\"cast_id\": 87, \"character\": \"Ground Technician (uncredited)\", \"credit_id\": \"52fe48019251416c750acb33\", \"gender\": 2, \"id\": 1207282, \"name\": \"Anthony Ingruber\", \"order\": 66}, {\"cast_id\": 88, \"character\": \"Flight Crew Mechanic (uncredited)\", \"credit_id\": \"52fe48019251416c750acb37\", \"gender\": 0, \"id\": 1207283, \"name\": \"Ashley Jeffery\", \"order\": 67}, {\"cast_id\": 14, \"character\": \"Samson Pilot\", \"credit_id\": \"52fe48009251416c750ac9f9\", \"gender\": 0, \"id\": 98216, \"name\": \"Dean Knowsley\", \"order\": 68}, {\"cast_id\": 89, \"character\": \"Trooper (uncredited)\", \"credit_id\": \"52fe48019251416c750acb3b\", \"gender\": 0, \"id\": 1201399, \"name\": \"Joseph Mika-Hunt\", \"order\": 69}, {\"cast_id\": 90, \"character\": \"Banshee (uncredited)\", \"credit_id\": \"52fe48019251416c750acb3f\", \"gender\": 0, \"id\": 236696, \"name\": \"Terry Notary\", \"order\": 70}, {\"cast_id\": 91, \"character\": \"Soldier (uncredited)\", \"credit_id\": \"52fe48019251416c750acb43\", \"gender\": 0, \"id\": 1207287, \"name\": \"Kai Pantano\", \"order\": 71}, {\"cast_id\": 92, \"character\": \"Blast Technician (uncredited)\", \"credit_id\": \"52fe48019251416c750acb47\", \"gender\": 0, \"id\": 1207288, \"name\": \"Logan Pithyou\", \"order\": 72}, {\"cast_id\": 93, \"character\": \"Vindum Raah (uncredited)\", \"credit_id\": \"52fe48019251416c750acb4b\", \"gender\": 0, \"id\": 1207289, \"name\": \"Stuart Pollock\", \"order\": 73}, {\"cast_id\": 94, \"character\": \"Hero (uncredited)\", \"credit_id\": \"52fe48019251416c750acb4f\", \"gender\": 0, \"id\": 584868, \"name\": \"Raja\", \"order\": 74}, {\"cast_id\": 95, \"character\": \"Ops Centreworker (uncredited)\", \"credit_id\": \"52fe48019251416c750acb53\", \"gender\": 0, \"id\": 1207290, \"name\": \"Gareth Ruck\", \"order\": 75}, {\"cast_id\": 96, \"character\": \"Engineer (uncredited)\", \"credit_id\": \"52fe48019251416c750acb57\", \"gender\": 0, \"id\": 1062463, \"name\": \"Rhian Sheehan\", \"order\": 76}, {\"cast_id\": 97, \"character\": \"Col. Quaritch\\'s Mech Suit (uncredited)\", \"credit_id\": \"52fe48019251416c750acb5b\", \"gender\": 0, \"id\": 60656, \"name\": \"T. J. Storm\", \"order\": 77}, {\"cast_id\": 98, \"character\": \"Female Marine (uncredited)\", \"credit_id\": \"52fe48019251416c750acb5f\", \"gender\": 0, \"id\": 1207291, \"name\": \"Jodie Taylor\", \"order\": 78}, {\"cast_id\": 99, \"character\": \"Ikran Clan Leader (uncredited)\", \"credit_id\": \"52fe48019251416c750acb63\", \"gender\": 1, \"id\": 1186027, \"name\": \"Alicia Vela-Bailey\", \"order\": 79}, {\"cast_id\": 100, \"character\": \"Geologist (uncredited)\", \"credit_id\": \"52fe48019251416c750acb67\", \"gender\": 0, \"id\": 1207292, \"name\": \"Richard Whiteside\", \"order\": 80}, {\"cast_id\": 101, \"character\": \"Na\\'vi (uncredited)\", \"credit_id\": \"52fe48019251416c750acb6b\", \"gender\": 0, \"id\": 103259, \"name\": \"Nikie Zambo\", \"order\": 81}, {\"cast_id\": 102, \"character\": \"Ambient Room Tech / Troupe\", \"credit_id\": \"52fe48019251416c750acb6f\", \"gender\": 1, \"id\": 42286, \"name\": \"Julene Renee\", \"order\": 82}]'"
      ]
     },
     "execution_count": 226,
     "metadata": {},
     "output_type": "execute_result"
    }
   ],
   "source": [
    "movies['cast'][0]"
   ]
  },
  {
   "cell_type": "code",
   "execution_count": 227,
   "id": "4c021cfe",
   "metadata": {
    "execution": {
     "iopub.execute_input": "2023-10-07T12:10:17.000430Z",
     "iopub.status.busy": "2023-10-07T12:10:17.000091Z",
     "iopub.status.idle": "2023-10-07T12:10:17.554641Z",
     "shell.execute_reply": "2023-10-07T12:10:17.553654Z"
    },
    "papermill": {
     "duration": 0.568779,
     "end_time": "2023-10-07T12:10:17.556885",
     "exception": false,
     "start_time": "2023-10-07T12:10:16.988106",
     "status": "completed"
    },
    "tags": []
   },
   "outputs": [
    {
     "name": "stderr",
     "output_type": "stream",
     "text": [
      "C:\\Users\\ATHARVA\\anaconda3\\Lib\\site-packages\\seaborn\\axisgrid.py:118: UserWarning: The figure layout has changed to tight\n",
      "  self._figure.tight_layout(*args, **kwargs)\n"
     ]
    },
    {
     "data": {
      "text/plain": [
       "<seaborn.axisgrid.FacetGrid at 0x21290558a10>"
      ]
     },
     "execution_count": 227,
     "metadata": {},
     "output_type": "execute_result"
    },
    {
     "data": {
      "text/plain": [
       "<Figure size 900x900 with 0 Axes>"
      ]
     },
     "metadata": {},
     "output_type": "display_data"
    },
    {
     "data": {
      "image/png": "[encoded data removed]",
      "text/plain": [
       "<Figure size 500x500 with 1 Axes>"
      ]
     },
     "metadata": {},
     "output_type": "display_data"
    }
   ],
   "source": [
    "#A histogram of the 'vote_average' column\n",
    "plt.figure(figsize=(9,9))\n",
    "sns.displot(movies['vote_average'],kde=True,bins=100)"
   ]
  },
  {
   "cell_type": "code",
   "execution_count": 228,
   "id": "97568ebb",
   "metadata": {
    "execution": {
     "iopub.execute_input": "2023-10-07T12:10:17.581271Z",
     "iopub.status.busy": "2023-10-07T12:10:17.580950Z",
     "iopub.status.idle": "2023-10-07T12:10:17.592451Z",
     "shell.execute_reply": "2023-10-07T12:10:17.591283Z"
    },
    "papermill": {
     "duration": 0.026274,
     "end_time": "2023-10-07T12:10:17.594695",
     "exception": false,
     "start_time": "2023-10-07T12:10:17.568421",
     "status": "completed"
    },
    "tags": []
   },
   "outputs": [
    {
     "data": {
      "text/plain": [
       "genres          0\n",
       "keywords        0\n",
       "overview        3\n",
       "release_date    1\n",
       "runtime         2\n",
       "title           0\n",
       "vote_average    0\n",
       "movie_id        0\n",
       "cast            0\n",
       "dtype: int64"
      ]
     },
     "execution_count": 228,
     "metadata": {},
     "output_type": "execute_result"
    }
   ],
   "source": [
    "movies.isna().sum()"
   ]
  },
  {
   "cell_type": "code",
   "execution_count": 229,
   "id": "717c4607",
   "metadata": {
    "execution": {
     "iopub.execute_input": "2023-10-07T12:10:17.619679Z",
     "iopub.status.busy": "2023-10-07T12:10:17.619242Z",
     "iopub.status.idle": "2023-10-07T12:10:17.630062Z",
     "shell.execute_reply": "2023-10-07T12:10:17.628566Z"
    },
    "papermill": {
     "duration": 0.026026,
     "end_time": "2023-10-07T12:10:17.632311",
     "exception": false,
     "start_time": "2023-10-07T12:10:17.606285",
     "status": "completed"
    },
    "tags": []
   },
   "outputs": [],
   "source": [
    "movies=movies.dropna(axis=0)"
   ]
  },
  {
   "cell_type": "code",
   "execution_count": 230,
   "id": "42199b55",
   "metadata": {
    "execution": {
     "iopub.execute_input": "2023-10-07T12:10:17.656770Z",
     "iopub.status.busy": "2023-10-07T12:10:17.656386Z",
     "iopub.status.idle": "2023-10-07T12:10:17.661831Z",
     "shell.execute_reply": "2023-10-07T12:10:17.660827Z"
    },
    "papermill": {
     "duration": 0.020293,
     "end_time": "2023-10-07T12:10:17.664165",
     "exception": false,
     "start_time": "2023-10-07T12:10:17.643872",
     "status": "completed"
    },
    "tags": []
   },
   "outputs": [],
   "source": [
    "#process a JSON-like string and extract the values associated with the key 'name' from each object in the array\n",
    "def extract(a):\n",
    "    lst=[]\n",
    "    for j in eval(a):\n",
    "        if 'name' in j.keys():\n",
    "            lst.append(j['name'])\n",
    "    return lst"
   ]
  },
  {
   "cell_type": "code",
   "execution_count": 231,
   "id": "7b961de8",
   "metadata": {
    "execution": {
     "iopub.execute_input": "2023-10-07T12:10:17.688561Z",
     "iopub.status.busy": "2023-10-07T12:10:17.688236Z",
     "iopub.status.idle": "2023-10-07T12:10:17.693198Z",
     "shell.execute_reply": "2023-10-07T12:10:17.692157Z"
    },
    "papermill": {
     "duration": 0.019443,
     "end_time": "2023-10-07T12:10:17.695228",
     "exception": false,
     "start_time": "2023-10-07T12:10:17.675785",
     "status": "completed"
    },
    "tags": []
   },
   "outputs": [],
   "source": [
    "#extract and store the names of the first three cast members for each movie\n",
    "def extract_cast(a):\n",
    "    lst=[]\n",
    "    for j in eval(a):\n",
    "        if 'name' in j.keys():\n",
    "            lst.append(j['name'])\n",
    "    return lst[:3]"
   ]
  },
  {
   "cell_type": "code",
   "execution_count": 232,
   "id": "99285326",
   "metadata": {
    "execution": {
     "iopub.execute_input": "2023-10-07T12:10:17.720316Z",
     "iopub.status.busy": "2023-10-07T12:10:17.719426Z",
     "iopub.status.idle": "2023-10-07T12:10:17.724044Z",
     "shell.execute_reply": "2023-10-07T12:10:17.723386Z"
    },
    "papermill": {
     "duration": 0.018775,
     "end_time": "2023-10-07T12:10:17.725719",
     "exception": false,
     "start_time": "2023-10-07T12:10:17.706944",
     "status": "completed"
    },
    "tags": []
   },
   "outputs": [],
   "source": [
    "#extract the names of directors from a JSON-like string\n",
    "def extract_crew(a):\n",
    "    lst=[]\n",
    "    for j in eval(a):\n",
    "        if j['job']=='Director' :\n",
    "            lst.append(j['name'])\n",
    "    return lst"
   ]
  },
  {
   "cell_type": "code",
   "execution_count": 233,
   "id": "8c56de40",
   "metadata": {
    "execution": {
     "iopub.execute_input": "2023-10-07T12:10:17.750913Z",
     "iopub.status.busy": "2023-10-07T12:10:17.750561Z",
     "iopub.status.idle": "2023-10-07T12:10:20.153942Z",
     "shell.execute_reply": "2023-10-07T12:10:20.152594Z"
    },
    "papermill": {
     "duration": 2.41941,
     "end_time": "2023-10-07T12:10:20.156464",
     "exception": false,
     "start_time": "2023-10-07T12:10:17.737054",
     "status": "completed"
    },
    "tags": []
   },
   "outputs": [],
   "source": [
    "movies['cast']=movies['cast'].apply(extract_cast)"
   ]
  },
  {
   "cell_type": "code",
   "execution_count": 234,
   "id": "24278489",
   "metadata": {
    "execution": {
     "iopub.execute_input": "2023-10-07T12:10:20.182237Z",
     "iopub.status.busy": "2023-10-07T12:10:20.181888Z",
     "iopub.status.idle": "2023-10-07T12:10:20.305390Z",
     "shell.execute_reply": "2023-10-07T12:10:20.304559Z"
    },
    "papermill": {
     "duration": 0.139356,
     "end_time": "2023-10-07T12:10:20.307787",
     "exception": false,
     "start_time": "2023-10-07T12:10:20.168431",
     "status": "completed"
    },
    "tags": []
   },
   "outputs": [],
   "source": [
    "movies['genres']=movies['genres'].apply(extract)"
   ]
  },
  {
   "cell_type": "code",
   "execution_count": 235,
   "id": "88601d7f",
   "metadata": {
    "execution": {
     "iopub.execute_input": "2023-10-07T12:10:20.332166Z",
     "iopub.status.busy": "2023-10-07T12:10:20.331836Z",
     "iopub.status.idle": "2023-10-07T12:10:20.685961Z",
     "shell.execute_reply": "2023-10-07T12:10:20.684879Z"
    },
    "papermill": {
     "duration": 0.368977,
     "end_time": "2023-10-07T12:10:20.688365",
     "exception": false,
     "start_time": "2023-10-07T12:10:20.319388",
     "status": "completed"
    },
    "tags": []
   },
   "outputs": [],
   "source": [
    "movies['keywords']=movies['keywords'].apply(extract)"
   ]
  },
  {
   "cell_type": "code",
   "execution_count": 236,
   "id": "0f214e23",
   "metadata": {
    "execution": {
     "iopub.execute_input": "2023-10-07T12:10:20.712866Z",
     "iopub.status.busy": "2023-10-07T12:10:20.712478Z",
     "iopub.status.idle": "2023-10-07T12:10:23.277873Z",
     "shell.execute_reply": "2023-10-07T12:10:23.276643Z"
    },
    "papermill": {
     "duration": 2.580643,
     "end_time": "2023-10-07T12:10:23.280548",
     "exception": false,
     "start_time": "2023-10-07T12:10:20.699905",
     "status": "completed"
    },
    "tags": []
   },
   "outputs": [],
   "source": [
    "movies['director']=df['crew'].apply(extract_crew)"
   ]
  },
  {
   "cell_type": "code",
   "execution_count": 237,
   "id": "2432723f",
   "metadata": {
    "execution": {
     "iopub.execute_input": "2023-10-07T12:10:23.306768Z",
     "iopub.status.busy": "2023-10-07T12:10:23.306092Z",
     "iopub.status.idle": "2023-10-07T12:10:23.344541Z",
     "shell.execute_reply": "2023-10-07T12:10:23.343394Z"
    },
    "papermill": {
     "duration": 0.053943,
     "end_time": "2023-10-07T12:10:23.346911",
     "exception": false,
     "start_time": "2023-10-07T12:10:23.292968",
     "status": "completed"
    },
    "tags": []
   },
   "outputs": [],
   "source": [
    "movies['overview']=movies['overview'].apply(lambda x:x.split())"
   ]
  },
  {
   "cell_type": "code",
   "execution_count": 238,
   "id": "97c73684",
   "metadata": {
    "execution": {
     "iopub.execute_input": "2023-10-07T12:10:23.371959Z",
     "iopub.status.busy": "2023-10-07T12:10:23.370938Z",
     "iopub.status.idle": "2023-10-07T12:10:23.376021Z",
     "shell.execute_reply": "2023-10-07T12:10:23.375013Z"
    },
    "papermill": {
     "duration": 0.019787,
     "end_time": "2023-10-07T12:10:23.378129",
     "exception": false,
     "start_time": "2023-10-07T12:10:23.358342",
     "status": "completed"
    },
    "tags": []
   },
   "outputs": [],
   "source": [
    "#now we will have to remove all the white spaces between the names so as to make them a single entity"
   ]
  },
  {
   "cell_type": "code",
   "execution_count": 239,
   "id": "bb0b5566",
   "metadata": {
    "execution": {
     "iopub.execute_input": "2023-10-07T12:10:23.404240Z",
     "iopub.status.busy": "2023-10-07T12:10:23.403909Z",
     "iopub.status.idle": "2023-10-07T12:10:23.486169Z",
     "shell.execute_reply": "2023-10-07T12:10:23.484994Z"
    },
    "papermill": {
     "duration": 0.097431,
     "end_time": "2023-10-07T12:10:23.488500",
     "exception": false,
     "start_time": "2023-10-07T12:10:23.391069",
     "status": "completed"
    },
    "tags": []
   },
   "outputs": [],
   "source": [
    "movies['genres']=movies['genres'].apply(lambda x:[i.replace(' ','') for i in x])\n",
    "movies['keywords']=movies['keywords'].apply(lambda x:[i.replace(' ','') for i in x])\n",
    "movies['overview']=movies['overview'].apply(lambda x:[i.replace(' ','') for i in x])\n",
    "movies['cast']=movies['cast'].apply(lambda x:[i.replace(' ','') for i in x])\n",
    "movies['director']=movies['director'].apply(lambda x:[i.replace(\" \",\"\") for i in x])"
   ]
  },
  {
   "cell_type": "code",
   "execution_count": 240,
   "id": "be990c47",
   "metadata": {
    "execution": {
     "iopub.execute_input": "2023-10-07T12:10:23.514984Z",
     "iopub.status.busy": "2023-10-07T12:10:23.514007Z",
     "iopub.status.idle": "2023-10-07T12:10:23.527739Z",
     "shell.execute_reply": "2023-10-07T12:10:23.526547Z"
    },
    "papermill": {
     "duration": 0.029938,
     "end_time": "2023-10-07T12:10:23.530314",
     "exception": false,
     "start_time": "2023-10-07T12:10:23.500376",
     "status": "completed"
    },
    "tags": []
   },
   "outputs": [],
   "source": [
    "movies['year_released']=pd.to_datetime(movies['release_date']).dt.year"
   ]
  },
  {
   "cell_type": "code",
   "execution_count": 241,
   "id": "5d194950",
   "metadata": {
    "execution": {
     "iopub.execute_input": "2023-10-07T12:10:23.556051Z",
     "iopub.status.busy": "2023-10-07T12:10:23.555400Z",
     "iopub.status.idle": "2023-10-07T12:10:23.562018Z",
     "shell.execute_reply": "2023-10-07T12:10:23.561335Z"
    },
    "papermill": {
     "duration": 0.021536,
     "end_time": "2023-10-07T12:10:23.563959",
     "exception": false,
     "start_time": "2023-10-07T12:10:23.542423",
     "status": "completed"
    },
    "tags": []
   },
   "outputs": [],
   "source": [
    "movies['year_released']=movies['year_released'].apply(lambda x:[str(x)])"
   ]
  },
  {
   "cell_type": "code",
   "execution_count": 242,
   "id": "74e39eb5",
   "metadata": {
    "execution": {
     "iopub.execute_input": "2023-10-07T12:10:23.588506Z",
     "iopub.status.busy": "2023-10-07T12:10:23.588133Z",
     "iopub.status.idle": "2023-10-07T12:10:23.602136Z",
     "shell.execute_reply": "2023-10-07T12:10:23.601339Z"
    },
    "papermill": {
     "duration": 0.028729,
     "end_time": "2023-10-07T12:10:23.604502",
     "exception": false,
     "start_time": "2023-10-07T12:10:23.575773",
     "status": "completed"
    },
    "tags": []
   },
   "outputs": [],
   "source": [
    "movies['runtime']=movies['runtime'].apply(lambda x:round(x/60,1))\n",
    "movies['runtime']=movies['runtime'].apply(lambda x:[str(x)])"
   ]
  },
  {
   "cell_type": "code",
   "execution_count": 243,
   "id": "8a148887",
   "metadata": {
    "execution": {
     "iopub.execute_input": "2023-10-07T12:10:23.629756Z",
     "iopub.status.busy": "2023-10-07T12:10:23.629130Z",
     "iopub.status.idle": "2023-10-07T12:10:23.636599Z",
     "shell.execute_reply": "2023-10-07T12:10:23.635902Z"
    },
    "papermill": {
     "duration": 0.022213,
     "end_time": "2023-10-07T12:10:23.638489",
     "exception": false,
     "start_time": "2023-10-07T12:10:23.616276",
     "status": "completed"
    },
    "tags": []
   },
   "outputs": [],
   "source": [
    "movies['vote_average']=movies['vote_average'].apply(lambda x:[str(x)])"
   ]
  },
  {
   "cell_type": "code",
   "execution_count": 244,
   "id": "f1823761",
   "metadata": {
    "execution": {
     "iopub.execute_input": "2023-10-07T12:10:23.663717Z",
     "iopub.status.busy": "2023-10-07T12:10:23.663083Z",
     "iopub.status.idle": "2023-10-07T12:10:23.670399Z",
     "shell.execute_reply": "2023-10-07T12:10:23.669702Z"
    },
    "papermill": {
     "duration": 0.02235,
     "end_time": "2023-10-07T12:10:23.672526",
     "exception": false,
     "start_time": "2023-10-07T12:10:23.650176",
     "status": "completed"
    },
    "tags": []
   },
   "outputs": [],
   "source": [
    "movies.drop('release_date',axis=1,inplace=True)"
   ]
  },
  {
   "cell_type": "code",
   "execution_count": 245,
   "id": "e2fdc2be",
   "metadata": {
    "execution": {
     "iopub.execute_input": "2023-10-07T12:10:23.698449Z",
     "iopub.status.busy": "2023-10-07T12:10:23.697426Z",
     "iopub.status.idle": "2023-10-07T12:10:23.931088Z",
     "shell.execute_reply": "2023-10-07T12:10:23.929882Z"
    },
    "papermill": {
     "duration": 0.248833,
     "end_time": "2023-10-07T12:10:23.933475",
     "exception": false,
     "start_time": "2023-10-07T12:10:23.684642",
     "status": "completed"
    },
    "tags": []
   },
   "outputs": [],
   "source": [
    "movies['tags']=movies['genres']+movies['keywords']+movies['overview']+movies['year_released']+movies['runtime']+movies['vote_average']+\\\n",
    "movies['cast']+movies['director']\n"
   ]
  },
  {
   "cell_type": "code",
   "execution_count": 246,
   "id": "2721a090",
   "metadata": {
    "execution": {
     "iopub.execute_input": "2023-10-07T12:10:23.958238Z",
     "iopub.status.busy": "2023-10-07T12:10:23.957891Z",
     "iopub.status.idle": "2023-10-07T12:10:23.986473Z",
     "shell.execute_reply": "2023-10-07T12:10:23.985774Z"
    },
    "papermill": {
     "duration": 0.042931,
     "end_time": "2023-10-07T12:10:23.988198",
     "exception": false,
     "start_time": "2023-10-07T12:10:23.945267",
     "status": "completed"
    },
    "tags": []
   },
   "outputs": [
    {
     "data": {
      "text/html": [
       "<div>\n",
       "<style scoped>\n",
       "    .dataframe tbody tr th:only-of-type {\n",
       "        vertical-align: middle;\n",
       "    }\n",
       "\n",
       "    .dataframe tbody tr th {\n",
       "        vertical-align: top;\n",
       "    }\n",
       "\n",
       "    .dataframe thead th {\n",
       "        text-align: right;\n",
       "    }\n",
       "</style>\n",
       "<table border=\"1\" class=\"dataframe\">\n",
       "  <thead>\n",
       "    <tr style=\"text-align: right;\">\n",
       "      <th></th>\n",
       "      <th>genres</th>\n",
       "      <th>keywords</th>\n",
       "      <th>overview</th>\n",
       "      <th>runtime</th>\n",
       "      <th>title</th>\n",
       "      <th>vote_average</th>\n",
       "      <th>movie_id</th>\n",
       "      <th>cast</th>\n",
       "      <th>director</th>\n",
       "      <th>year_released</th>\n",
       "      <th>tags</th>\n",
       "    </tr>\n",
       "  </thead>\n",
       "  <tbody>\n",
       "    <tr>\n",
       "      <th>0</th>\n",
       "      <td>[Action, Adventure, Fantasy, ScienceFiction]</td>\n",
       "      <td>[cultureclash, future, spacewar, spacecolony, ...</td>\n",
       "      <td>[In, the, 22nd, century,, a, paraplegic, Marin...</td>\n",
       "      <td>[2.7]</td>\n",
       "      <td>Avatar</td>\n",
       "      <td>[7.2]</td>\n",
       "      <td>19995</td>\n",
       "      <td>[SamWorthington, ZoeSaldana, SigourneyWeaver]</td>\n",
       "      <td>[JamesCameron]</td>\n",
       "      <td>[2009]</td>\n",
       "      <td>[Action, Adventure, Fantasy, ScienceFiction, c...</td>\n",
       "    </tr>\n",
       "    <tr>\n",
       "      <th>1</th>\n",
       "      <td>[Adventure, Fantasy, Action]</td>\n",
       "      <td>[ocean, drugabuse, exoticisland, eastindiatrad...</td>\n",
       "      <td>[Captain, Barbossa,, long, believed, to, be, d...</td>\n",
       "      <td>[2.8]</td>\n",
       "      <td>Pirates of the Caribbean: At World's End</td>\n",
       "      <td>[6.9]</td>\n",
       "      <td>285</td>\n",
       "      <td>[JohnnyDepp, OrlandoBloom, KeiraKnightley]</td>\n",
       "      <td>[GoreVerbinski]</td>\n",
       "      <td>[2007]</td>\n",
       "      <td>[Adventure, Fantasy, Action, ocean, drugabuse,...</td>\n",
       "    </tr>\n",
       "    <tr>\n",
       "      <th>2</th>\n",
       "      <td>[Action, Adventure, Crime]</td>\n",
       "      <td>[spy, basedonnovel, secretagent, sequel, mi6, ...</td>\n",
       "      <td>[A, cryptic, message, from, Bond’s, past, send...</td>\n",
       "      <td>[2.5]</td>\n",
       "      <td>Spectre</td>\n",
       "      <td>[6.3]</td>\n",
       "      <td>206647</td>\n",
       "      <td>[DanielCraig, ChristophWaltz, LéaSeydoux]</td>\n",
       "      <td>[SamMendes]</td>\n",
       "      <td>[2015]</td>\n",
       "      <td>[Action, Adventure, Crime, spy, basedonnovel, ...</td>\n",
       "    </tr>\n",
       "    <tr>\n",
       "      <th>3</th>\n",
       "      <td>[Action, Crime, Drama, Thriller]</td>\n",
       "      <td>[dccomics, crimefighter, terrorist, secretiden...</td>\n",
       "      <td>[Following, the, death, of, District, Attorney...</td>\n",
       "      <td>[2.8]</td>\n",
       "      <td>The Dark Knight Rises</td>\n",
       "      <td>[7.6]</td>\n",
       "      <td>49026</td>\n",
       "      <td>[ChristianBale, MichaelCaine, GaryOldman]</td>\n",
       "      <td>[ChristopherNolan]</td>\n",
       "      <td>[2012]</td>\n",
       "      <td>[Action, Crime, Drama, Thriller, dccomics, cri...</td>\n",
       "    </tr>\n",
       "    <tr>\n",
       "      <th>4</th>\n",
       "      <td>[Action, Adventure, ScienceFiction]</td>\n",
       "      <td>[basedonnovel, mars, medallion, spacetravel, p...</td>\n",
       "      <td>[John, Carter, is, a, war-weary,, former, mili...</td>\n",
       "      <td>[2.2]</td>\n",
       "      <td>John Carter</td>\n",
       "      <td>[6.1]</td>\n",
       "      <td>49529</td>\n",
       "      <td>[TaylorKitsch, LynnCollins, SamanthaMorton]</td>\n",
       "      <td>[AndrewStanton]</td>\n",
       "      <td>[2012]</td>\n",
       "      <td>[Action, Adventure, ScienceFiction, basedonnov...</td>\n",
       "    </tr>\n",
       "  </tbody>\n",
       "</table>\n",
       "</div>"
      ],
      "text/plain": [
       "                                         genres  \\\n",
       "0  [Action, Adventure, Fantasy, ScienceFiction]   \n",
       "1                  [Adventure, Fantasy, Action]   \n",
       "2                    [Action, Adventure, Crime]   \n",
       "3              [Action, Crime, Drama, Thriller]   \n",
       "4           [Action, Adventure, ScienceFiction]   \n",
       "\n",
       "                                            keywords  \\\n",
       "0  [cultureclash, future, spacewar, spacecolony, ...   \n",
       "1  [ocean, drugabuse, exoticisland, eastindiatrad...   \n",
       "2  [spy, basedonnovel, secretagent, sequel, mi6, ...   \n",
       "3  [dccomics, crimefighter, terrorist, secretiden...   \n",
       "4  [basedonnovel, mars, medallion, spacetravel, p...   \n",
       "\n",
       "                                            overview runtime  \\\n",
       "0  [In, the, 22nd, century,, a, paraplegic, Marin...   [2.7]   \n",
       "1  [Captain, Barbossa,, long, believed, to, be, d...   [2.8]   \n",
       "2  [A, cryptic, message, from, Bond’s, past, send...   [2.5]   \n",
       "3  [Following, the, death, of, District, Attorney...   [2.8]   \n",
       "4  [John, Carter, is, a, war-weary,, former, mili...   [2.2]   \n",
       "\n",
       "                                      title vote_average  movie_id  \\\n",
       "0                                    Avatar        [7.2]     19995   \n",
       "1  Pirates of the Caribbean: At World's End        [6.9]       285   \n",
       "2                                   Spectre        [6.3]    206647   \n",
       "3                     The Dark Knight Rises        [7.6]     49026   \n",
       "4                               John Carter        [6.1]     49529   \n",
       "\n",
       "                                            cast            director  \\\n",
       "0  [SamWorthington, ZoeSaldana, SigourneyWeaver]      [JamesCameron]   \n",
       "1     [JohnnyDepp, OrlandoBloom, KeiraKnightley]     [GoreVerbinski]   \n",
       "2      [DanielCraig, ChristophWaltz, LéaSeydoux]         [SamMendes]   \n",
       "3      [ChristianBale, MichaelCaine, GaryOldman]  [ChristopherNolan]   \n",
       "4    [TaylorKitsch, LynnCollins, SamanthaMorton]     [AndrewStanton]   \n",
       "\n",
       "  year_released                                               tags  \n",
       "0        [2009]  [Action, Adventure, Fantasy, ScienceFiction, c...  \n",
       "1        [2007]  [Adventure, Fantasy, Action, ocean, drugabuse,...  \n",
       "2        [2015]  [Action, Adventure, Crime, spy, basedonnovel, ...  \n",
       "3        [2012]  [Action, Crime, Drama, Thriller, dccomics, cri...  \n",
       "4        [2012]  [Action, Adventure, ScienceFiction, basedonnov...  "
      ]
     },
     "execution_count": 246,
     "metadata": {},
     "output_type": "execute_result"
    }
   ],
   "source": [
    "movies.head()     "
   ]
  },
  {
   "cell_type": "code",
   "execution_count": 247,
   "id": "7cec7f91",
   "metadata": {
    "execution": {
     "iopub.execute_input": "2023-10-07T12:10:24.012766Z",
     "iopub.status.busy": "2023-10-07T12:10:24.012433Z",
     "iopub.status.idle": "2023-10-07T12:10:24.017460Z",
     "shell.execute_reply": "2023-10-07T12:10:24.016784Z"
    },
    "papermill": {
     "duration": 0.019505,
     "end_time": "2023-10-07T12:10:24.019278",
     "exception": false,
     "start_time": "2023-10-07T12:10:23.999773",
     "status": "completed"
    },
    "tags": []
   },
   "outputs": [],
   "source": [
    "movies_df=movies[['movie_id','title','tags']]"
   ]
  },
  {
   "cell_type": "code",
   "execution_count": 248,
   "id": "59c01590",
   "metadata": {
    "execution": {
     "iopub.execute_input": "2023-10-07T12:10:24.045803Z",
     "iopub.status.busy": "2023-10-07T12:10:24.045222Z",
     "iopub.status.idle": "2023-10-07T12:10:24.064620Z",
     "shell.execute_reply": "2023-10-07T12:10:24.063066Z"
    },
    "papermill": {
     "duration": 0.035084,
     "end_time": "2023-10-07T12:10:24.066714",
     "exception": false,
     "start_time": "2023-10-07T12:10:24.031630",
     "status": "completed"
    },
    "tags": []
   },
   "outputs": [
    {
     "name": "stderr",
     "output_type": "stream",
     "text": [
      "C:\\Users\\ATHARVA\\AppData\\Local\\Temp\\ipykernel_2004\\3764021161.py:2: SettingWithCopyWarning: \n",
      "A value is trying to be set on a copy of a slice from a DataFrame.\n",
      "Try using .loc[row_indexer,col_indexer] = value instead\n",
      "\n",
      "See the caveats in the documentation: https://pandas.pydata.org/pandas-docs/stable/user_guide/indexing.html#returning-a-view-versus-a-copy\n",
      "  movies_df['tags']=movies_df['tags'].apply(lambda x:' '.join(x))\n"
     ]
    }
   ],
   "source": [
    "#tags' column is converted to a space-separated string.\n",
    "movies_df['tags']=movies_df['tags'].apply(lambda x:' '.join(x))"
   ]
  },
  {
   "cell_type": "code",
   "execution_count": 249,
   "id": "c4eeecd4",
   "metadata": {},
   "outputs": [
    {
     "data": {
      "text/html": [
       "<div>\n",
       "<style scoped>\n",
       "    .dataframe tbody tr th:only-of-type {\n",
       "        vertical-align: middle;\n",
       "    }\n",
       "\n",
       "    .dataframe tbody tr th {\n",
       "        vertical-align: top;\n",
       "    }\n",
       "\n",
       "    .dataframe thead th {\n",
       "        text-align: right;\n",
       "    }\n",
       "</style>\n",
       "<table border=\"1\" class=\"dataframe\">\n",
       "  <thead>\n",
       "    <tr style=\"text-align: right;\">\n",
       "      <th></th>\n",
       "      <th>movie_id</th>\n",
       "      <th>title</th>\n",
       "      <th>tags</th>\n",
       "    </tr>\n",
       "  </thead>\n",
       "  <tbody>\n",
       "    <tr>\n",
       "      <th>0</th>\n",
       "      <td>19995</td>\n",
       "      <td>Avatar</td>\n",
       "      <td>Action Adventure Fantasy ScienceFiction cultur...</td>\n",
       "    </tr>\n",
       "    <tr>\n",
       "      <th>1</th>\n",
       "      <td>285</td>\n",
       "      <td>Pirates of the Caribbean: At World's End</td>\n",
       "      <td>Adventure Fantasy Action ocean drugabuse exoti...</td>\n",
       "    </tr>\n",
       "    <tr>\n",
       "      <th>2</th>\n",
       "      <td>206647</td>\n",
       "      <td>Spectre</td>\n",
       "      <td>Action Adventure Crime spy basedonnovel secret...</td>\n",
       "    </tr>\n",
       "    <tr>\n",
       "      <th>3</th>\n",
       "      <td>49026</td>\n",
       "      <td>The Dark Knight Rises</td>\n",
       "      <td>Action Crime Drama Thriller dccomics crimefigh...</td>\n",
       "    </tr>\n",
       "    <tr>\n",
       "      <th>4</th>\n",
       "      <td>49529</td>\n",
       "      <td>John Carter</td>\n",
       "      <td>Action Adventure ScienceFiction basedonnovel m...</td>\n",
       "    </tr>\n",
       "    <tr>\n",
       "      <th>5</th>\n",
       "      <td>559</td>\n",
       "      <td>Spider-Man 3</td>\n",
       "      <td>Fantasy Action Adventure dualidentity amnesia ...</td>\n",
       "    </tr>\n",
       "    <tr>\n",
       "      <th>6</th>\n",
       "      <td>38757</td>\n",
       "      <td>Tangled</td>\n",
       "      <td>Animation Family hostage magic horse fairytale...</td>\n",
       "    </tr>\n",
       "    <tr>\n",
       "      <th>7</th>\n",
       "      <td>99861</td>\n",
       "      <td>Avengers: Age of Ultron</td>\n",
       "      <td>Action Adventure ScienceFiction marvelcomic se...</td>\n",
       "    </tr>\n",
       "    <tr>\n",
       "      <th>8</th>\n",
       "      <td>767</td>\n",
       "      <td>Harry Potter and the Half-Blood Prince</td>\n",
       "      <td>Adventure Fantasy Family witch magic broom sch...</td>\n",
       "    </tr>\n",
       "    <tr>\n",
       "      <th>9</th>\n",
       "      <td>209112</td>\n",
       "      <td>Batman v Superman: Dawn of Justice</td>\n",
       "      <td>Action Adventure Fantasy dccomics vigilante su...</td>\n",
       "    </tr>\n",
       "    <tr>\n",
       "      <th>10</th>\n",
       "      <td>1452</td>\n",
       "      <td>Superman Returns</td>\n",
       "      <td>Adventure Fantasy Action ScienceFiction saving...</td>\n",
       "    </tr>\n",
       "    <tr>\n",
       "      <th>11</th>\n",
       "      <td>10764</td>\n",
       "      <td>Quantum of Solace</td>\n",
       "      <td>Adventure Action Thriller Crime killing underc...</td>\n",
       "    </tr>\n",
       "    <tr>\n",
       "      <th>12</th>\n",
       "      <td>58</td>\n",
       "      <td>Pirates of the Caribbean: Dead Man's Chest</td>\n",
       "      <td>Adventure Fantasy Action witch fortuneteller b...</td>\n",
       "    </tr>\n",
       "    <tr>\n",
       "      <th>13</th>\n",
       "      <td>57201</td>\n",
       "      <td>The Lone Ranger</td>\n",
       "      <td>Action Adventure Western texas horse survivor ...</td>\n",
       "    </tr>\n",
       "    <tr>\n",
       "      <th>14</th>\n",
       "      <td>49521</td>\n",
       "      <td>Man of Steel</td>\n",
       "      <td>Action Adventure Fantasy ScienceFiction saving...</td>\n",
       "    </tr>\n",
       "    <tr>\n",
       "      <th>15</th>\n",
       "      <td>2454</td>\n",
       "      <td>The Chronicles of Narnia: Prince Caspian</td>\n",
       "      <td>Adventure Family Fantasy basedonnovel fictiona...</td>\n",
       "    </tr>\n",
       "    <tr>\n",
       "      <th>16</th>\n",
       "      <td>24428</td>\n",
       "      <td>The Avengers</td>\n",
       "      <td>ScienceFiction Action Adventure newyork shield...</td>\n",
       "    </tr>\n",
       "    <tr>\n",
       "      <th>17</th>\n",
       "      <td>1865</td>\n",
       "      <td>Pirates of the Caribbean: On Stranger Tides</td>\n",
       "      <td>Adventure Action Fantasy sea captain mutiny sw...</td>\n",
       "    </tr>\n",
       "    <tr>\n",
       "      <th>18</th>\n",
       "      <td>41154</td>\n",
       "      <td>Men in Black 3</td>\n",
       "      <td>Action Comedy ScienceFiction timetravel timema...</td>\n",
       "    </tr>\n",
       "    <tr>\n",
       "      <th>19</th>\n",
       "      <td>122917</td>\n",
       "      <td>The Hobbit: The Battle of the Five Armies</td>\n",
       "      <td>Action Adventure Fantasy corruption elves dwar...</td>\n",
       "    </tr>\n",
       "  </tbody>\n",
       "</table>\n",
       "</div>"
      ],
      "text/plain": [
       "    movie_id                                        title  \\\n",
       "0      19995                                       Avatar   \n",
       "1        285     Pirates of the Caribbean: At World's End   \n",
       "2     206647                                      Spectre   \n",
       "3      49026                        The Dark Knight Rises   \n",
       "4      49529                                  John Carter   \n",
       "5        559                                 Spider-Man 3   \n",
       "6      38757                                      Tangled   \n",
       "7      99861                      Avengers: Age of Ultron   \n",
       "8        767       Harry Potter and the Half-Blood Prince   \n",
       "9     209112           Batman v Superman: Dawn of Justice   \n",
       "10      1452                             Superman Returns   \n",
       "11     10764                            Quantum of Solace   \n",
       "12        58   Pirates of the Caribbean: Dead Man's Chest   \n",
       "13     57201                              The Lone Ranger   \n",
       "14     49521                                 Man of Steel   \n",
       "15      2454     The Chronicles of Narnia: Prince Caspian   \n",
       "16     24428                                 The Avengers   \n",
       "17      1865  Pirates of the Caribbean: On Stranger Tides   \n",
       "18     41154                               Men in Black 3   \n",
       "19    122917    The Hobbit: The Battle of the Five Armies   \n",
       "\n",
       "                                                 tags  \n",
       "0   Action Adventure Fantasy ScienceFiction cultur...  \n",
       "1   Adventure Fantasy Action ocean drugabuse exoti...  \n",
       "2   Action Adventure Crime spy basedonnovel secret...  \n",
       "3   Action Crime Drama Thriller dccomics crimefigh...  \n",
       "4   Action Adventure ScienceFiction basedonnovel m...  \n",
       "5   Fantasy Action Adventure dualidentity amnesia ...  \n",
       "6   Animation Family hostage magic horse fairytale...  \n",
       "7   Action Adventure ScienceFiction marvelcomic se...  \n",
       "8   Adventure Fantasy Family witch magic broom sch...  \n",
       "9   Action Adventure Fantasy dccomics vigilante su...  \n",
       "10  Adventure Fantasy Action ScienceFiction saving...  \n",
       "11  Adventure Action Thriller Crime killing underc...  \n",
       "12  Adventure Fantasy Action witch fortuneteller b...  \n",
       "13  Action Adventure Western texas horse survivor ...  \n",
       "14  Action Adventure Fantasy ScienceFiction saving...  \n",
       "15  Adventure Family Fantasy basedonnovel fictiona...  \n",
       "16  ScienceFiction Action Adventure newyork shield...  \n",
       "17  Adventure Action Fantasy sea captain mutiny sw...  \n",
       "18  Action Comedy ScienceFiction timetravel timema...  \n",
       "19  Action Adventure Fantasy corruption elves dwar...  "
      ]
     },
     "execution_count": 249,
     "metadata": {},
     "output_type": "execute_result"
    }
   ],
   "source": [
    "movies_df.head(20)     "
   ]
  },
  {
   "cell_type": "code",
   "execution_count": 250,
   "id": "3b26f370",
   "metadata": {
    "execution": {
     "iopub.execute_input": "2023-10-07T12:10:24.130338Z",
     "iopub.status.busy": "2023-10-07T12:10:24.129737Z",
     "iopub.status.idle": "2023-10-07T12:10:24.298529Z",
     "shell.execute_reply": "2023-10-07T12:10:24.297543Z"
    },
    "papermill": {
     "duration": 0.184772,
     "end_time": "2023-10-07T12:10:24.301032",
     "exception": false,
     "start_time": "2023-10-07T12:10:24.116260",
     "status": "completed"
    },
    "tags": []
   },
   "outputs": [],
   "source": [
    "from sklearn.feature_extraction.text import TfidfVectorizer"
   ]
  },
  {
   "cell_type": "code",
   "execution_count": 251,
   "id": "1d259bb3",
   "metadata": {
    "execution": {
     "iopub.execute_input": "2023-10-07T12:10:24.327801Z",
     "iopub.status.busy": "2023-10-07T12:10:24.327413Z",
     "iopub.status.idle": "2023-10-07T12:10:24.332392Z",
     "shell.execute_reply": "2023-10-07T12:10:24.331182Z"
    },
    "papermill": {
     "duration": 0.020527,
     "end_time": "2023-10-07T12:10:24.334445",
     "exception": false,
     "start_time": "2023-10-07T12:10:24.313918",
     "status": "completed"
    },
    "tags": []
   },
   "outputs": [],
   "source": [
    "#Text Vectorization\n",
    "vectorizer=TfidfVectorizer(analyzer='word',stop_words='english')"
   ]
  },
  {
   "cell_type": "code",
   "execution_count": 252,
   "id": "6a2563be",
   "metadata": {
    "execution": {
     "iopub.execute_input": "2023-10-07T12:10:24.360454Z",
     "iopub.status.busy": "2023-10-07T12:10:24.359737Z",
     "iopub.status.idle": "2023-10-07T12:10:24.778528Z",
     "shell.execute_reply": "2023-10-07T12:10:24.777313Z"
    },
    "papermill": {
     "duration": 0.434379,
     "end_time": "2023-10-07T12:10:24.781025",
     "exception": false,
     "start_time": "2023-10-07T12:10:24.346646",
     "status": "completed"
    },
    "tags": []
   },
   "outputs": [],
   "source": [
    "# 'tags' column is vectorized using TF-IDF\n",
    "vector=vectorizer.fit_transform(movies_df['tags'])"
   ]
  },
  {
   "cell_type": "code",
   "execution_count": 253,
   "id": "493cc76b",
   "metadata": {
    "execution": {
     "iopub.execute_input": "2023-10-07T12:10:24.807597Z",
     "iopub.status.busy": "2023-10-07T12:10:24.806798Z",
     "iopub.status.idle": "2023-10-07T12:10:24.895319Z",
     "shell.execute_reply": "2023-10-07T12:10:24.894368Z"
    },
    "papermill": {
     "duration": 0.104146,
     "end_time": "2023-10-07T12:10:24.897484",
     "exception": false,
     "start_time": "2023-10-07T12:10:24.793338",
     "status": "completed"
    },
    "tags": []
   },
   "outputs": [],
   "source": [
    "from sklearn.metrics.pairwise import cosine_similarity"
   ]
  },
  {
   "cell_type": "code",
   "execution_count": 254,
   "id": "480677d4",
   "metadata": {
    "execution": {
     "iopub.execute_input": "2023-10-07T12:10:24.923291Z",
     "iopub.status.busy": "2023-10-07T12:10:24.922895Z",
     "iopub.status.idle": "2023-10-07T12:10:25.722627Z",
     "shell.execute_reply": "2023-10-07T12:10:25.721650Z"
    },
    "papermill": {
     "duration": 0.815248,
     "end_time": "2023-10-07T12:10:25.724953",
     "exception": false,
     "start_time": "2023-10-07T12:10:24.909705",
     "status": "completed"
    },
    "tags": []
   },
   "outputs": [],
   "source": [
    "#Cosine similarity is calculated based on the TF-IDF vectors\n",
    "similarity=cosine_similarity(vector)"
   ]
  },
  {
   "cell_type": "code",
   "execution_count": 255,
   "id": "d65f687d",
   "metadata": {
    "execution": {
     "iopub.execute_input": "2023-10-07T12:10:25.751047Z",
     "iopub.status.busy": "2023-10-07T12:10:25.750685Z",
     "iopub.status.idle": "2023-10-07T12:10:25.755375Z",
     "shell.execute_reply": "2023-10-07T12:10:25.754619Z"
    },
    "papermill": {
     "duration": 0.020186,
     "end_time": "2023-10-07T12:10:25.757325",
     "exception": false,
     "start_time": "2023-10-07T12:10:25.737139",
     "status": "completed"
    },
    "tags": []
   },
   "outputs": [],
   "source": [
    "#recommendation function\n",
    "def recommend(a):\n",
    "    index=movies_df[movies_df['title']==a].index[0]\n",
    "    x=(-similarity[index]).argsort()[1:5]\n",
    "    for i in x:\n",
    "        print(movies_df.iloc[i].title)"
   ]
  },
  {
   "cell_type": "code",
   "execution_count": 256,
   "id": "9f6b7d09",
   "metadata": {
    "execution": {
     "iopub.execute_input": "2023-10-07T12:10:25.785496Z",
     "iopub.status.busy": "2023-10-07T12:10:25.784957Z",
     "iopub.status.idle": "2023-10-07T12:10:25.791973Z",
     "shell.execute_reply": "2023-10-07T12:10:25.790894Z"
    },
    "papermill": {
     "duration": 0.022923,
     "end_time": "2023-10-07T12:10:25.793929",
     "exception": false,
     "start_time": "2023-10-07T12:10:25.771006",
     "status": "completed"
    },
    "tags": []
   },
   "outputs": [
    {
     "name": "stdout",
     "output_type": "stream",
     "text": [
      "Contact\n",
      "Apollo 13\n",
      "The Martian\n",
      "Space Cowboys\n"
     ]
    }
   ],
   "source": [
    "# test recommendation\n",
    "recommend('Interstellar')"
   ]
  },
  {
   "cell_type": "code",
   "execution_count": null,
   "id": "e3f2dfbf",
   "metadata": {
    "papermill": {
     "duration": 0.011793,
     "end_time": "2023-10-07T12:10:25.818425",
     "exception": false,
     "start_time": "2023-10-07T12:10:25.806632",
     "status": "completed"
    },
    "tags": []
   },
   "outputs": [],
   "source": []
  }
 ],
 "metadata": {
  "kernelspec": {
   "display_name": "Python 3 (ipykernel)",
   "language": "python",
   "name": "python3"
  },
  "language_info": {
   "codemirror_mode": {
    "name": "ipython",
    "version": 3
   },
   "file_extension": ".py",
   "mimetype": "text/x-python",
   "name": "python",
   "nbconvert_exporter": "python",
   "pygments_lexer": "ipython3",
   "version": "3.11.5"
  },
  "papermill": {
   "default_parameters": {},
   "duration": 16.240801,
   "end_time": "2023-10-07T12:10:26.663252",
   "environment_variables": {},
   "exception": null,
   "input_path": "__notebook__.ipynb",
   "output_path": "__notebook__.ipynb",
   "parameters": {},
   "start_time": "2023-10-07T12:10:10.422451",
   "version": "2.4.0"
  }
 },
 "nbformat": 4,
 "nbformat_minor": 5
}
